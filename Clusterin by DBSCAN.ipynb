{
 "cells": [
  {
   "cell_type": "markdown",
   "id": "b9df0c77",
   "metadata": {},
   "source": [
    "# One Application of DBSCAN to Clustering Transaction Data\n",
    "To study the data provided, we will start with an exploratory analysis. So, I begin by loading data."
   ]
  },
  {
   "cell_type": "code",
   "execution_count": 1,
   "id": "107bab9e",
   "metadata": {},
   "outputs": [],
   "source": [
    "# Libraries\n",
    "\n",
    "import pandas as pd\n",
    "import numpy as np"
   ]
  },
  {
   "cell_type": "code",
   "execution_count": 2,
   "id": "fbb42b46",
   "metadata": {
    "scrolled": true
   },
   "outputs": [
    {
     "data": {
      "text/html": [
       "<div>\n",
       "<style scoped>\n",
       "    .dataframe tbody tr th:only-of-type {\n",
       "        vertical-align: middle;\n",
       "    }\n",
       "\n",
       "    .dataframe tbody tr th {\n",
       "        vertical-align: top;\n",
       "    }\n",
       "\n",
       "    .dataframe thead th {\n",
       "        text-align: right;\n",
       "    }\n",
       "</style>\n",
       "<table border=\"1\" class=\"dataframe\">\n",
       "  <thead>\n",
       "    <tr style=\"text-align: right;\">\n",
       "      <th></th>\n",
       "      <th>TRANS DATE</th>\n",
       "      <th>TRANS VAT DESC</th>\n",
       "      <th>ORIGINAL GROSS AMT</th>\n",
       "      <th>ORIGINAL CUR</th>\n",
       "      <th>BILLING GROSS AMT</th>\n",
       "      <th>BILLING CUR CODE</th>\n",
       "      <th>MERCHANT NAME</th>\n",
       "      <th>CARD NUMBER</th>\n",
       "      <th>TRANS CAC CODE 1</th>\n",
       "      <th>TRANS CAC DESC 1</th>\n",
       "      <th>TRANS CAC CODE 2</th>\n",
       "      <th>TRANS CAC DESC 2</th>\n",
       "      <th>TRANS CAC CODE 3</th>\n",
       "      <th>Directorate</th>\n",
       "    </tr>\n",
       "  </thead>\n",
       "  <tbody>\n",
       "    <tr>\n",
       "      <th>0</th>\n",
       "      <td>03/01/18</td>\n",
       "      <td>VR</td>\n",
       "      <td>82.20</td>\n",
       "      <td>GBP</td>\n",
       "      <td>82.20</td>\n",
       "      <td>GBP</td>\n",
       "      <td>mrh six ways</td>\n",
       "      <td>************5804</td>\n",
       "      <td>K020</td>\n",
       "      <td>Vehicle Fuel</td>\n",
       "      <td>RVA11</td>\n",
       "      <td>Beeches GOLDD</td>\n",
       "      <td>A00</td>\n",
       "      <td>Adult Social Care and Health</td>\n",
       "    </tr>\n",
       "    <tr>\n",
       "      <th>1</th>\n",
       "      <td>05/02/18</td>\n",
       "      <td>VR</td>\n",
       "      <td>60.00</td>\n",
       "      <td>GBP</td>\n",
       "      <td>60.00</td>\n",
       "      <td>GBP</td>\n",
       "      <td>malthurst limited</td>\n",
       "      <td>************5804</td>\n",
       "      <td>K020</td>\n",
       "      <td>Vehicle Fuel</td>\n",
       "      <td>RVA11</td>\n",
       "      <td>Beeches GOLDD</td>\n",
       "      <td>A00</td>\n",
       "      <td>Adult Social Care and Health</td>\n",
       "    </tr>\n",
       "    <tr>\n",
       "      <th>2</th>\n",
       "      <td>29/01/18</td>\n",
       "      <td>VR</td>\n",
       "      <td>50.00</td>\n",
       "      <td>GBP</td>\n",
       "      <td>50.00</td>\n",
       "      <td>GBP</td>\n",
       "      <td>beeches road servi</td>\n",
       "      <td>************5804</td>\n",
       "      <td>K020</td>\n",
       "      <td>Vehicle Fuel</td>\n",
       "      <td>RVA11</td>\n",
       "      <td>Beeches GOLDD</td>\n",
       "      <td>A00</td>\n",
       "      <td>Adult Social Care and Health</td>\n",
       "    </tr>\n",
       "    <tr>\n",
       "      <th>3</th>\n",
       "      <td>19/01/18</td>\n",
       "      <td>VR</td>\n",
       "      <td>45.00</td>\n",
       "      <td>GBP</td>\n",
       "      <td>45.00</td>\n",
       "      <td>GBP</td>\n",
       "      <td>beeches road servi</td>\n",
       "      <td>************5804</td>\n",
       "      <td>K020</td>\n",
       "      <td>Vehicle Fuel</td>\n",
       "      <td>RVA11</td>\n",
       "      <td>Beeches GOLDD</td>\n",
       "      <td>A00</td>\n",
       "      <td>Adult Social Care and Health</td>\n",
       "    </tr>\n",
       "    <tr>\n",
       "      <th>4</th>\n",
       "      <td>18/01/18</td>\n",
       "      <td>VR</td>\n",
       "      <td>77.49</td>\n",
       "      <td>GBP</td>\n",
       "      <td>77.49</td>\n",
       "      <td>GBP</td>\n",
       "      <td>rontec moseley</td>\n",
       "      <td>************2823</td>\n",
       "      <td>K020</td>\n",
       "      <td>Vehicle Fuel</td>\n",
       "      <td>RV191</td>\n",
       "      <td>Moseley Day Centre</td>\n",
       "      <td>A00</td>\n",
       "      <td>Adult Social Care and Health</td>\n",
       "    </tr>\n",
       "    <tr>\n",
       "      <th>5</th>\n",
       "      <td>08/01/18</td>\n",
       "      <td>VR</td>\n",
       "      <td>63.87</td>\n",
       "      <td>GBP</td>\n",
       "      <td>63.87</td>\n",
       "      <td>GBP</td>\n",
       "      <td>rontec moseley</td>\n",
       "      <td>************2823</td>\n",
       "      <td>K020</td>\n",
       "      <td>Vehicle Fuel</td>\n",
       "      <td>RV191</td>\n",
       "      <td>Moseley Day Centre</td>\n",
       "      <td>A00</td>\n",
       "      <td>Adult Social Care and Health</td>\n",
       "    </tr>\n",
       "  </tbody>\n",
       "</table>\n",
       "</div>"
      ],
      "text/plain": [
       "  TRANS DATE TRANS VAT DESC ORIGINAL GROSS AMT ORIGINAL CUR BILLING GROSS AMT  \\\n",
       "0   03/01/18             VR              82.20          GBP             82.20   \n",
       "1   05/02/18             VR              60.00          GBP             60.00   \n",
       "2   29/01/18             VR              50.00          GBP             50.00   \n",
       "3   19/01/18             VR              45.00          GBP             45.00   \n",
       "4   18/01/18             VR              77.49          GBP             77.49   \n",
       "5   08/01/18             VR              63.87          GBP             63.87   \n",
       "\n",
       "  BILLING CUR CODE       MERCHANT NAME       CARD NUMBER TRANS CAC CODE 1  \\\n",
       "0              GBP        mrh six ways  ************5804             K020   \n",
       "1              GBP   malthurst limited  ************5804             K020   \n",
       "2              GBP  beeches road servi  ************5804             K020   \n",
       "3              GBP  beeches road servi  ************5804             K020   \n",
       "4              GBP      rontec moseley  ************2823             K020   \n",
       "5              GBP      rontec moseley  ************2823             K020   \n",
       "\n",
       "  TRANS CAC DESC 1 TRANS CAC CODE 2    TRANS CAC DESC 2 TRANS CAC CODE 3  \\\n",
       "0     Vehicle Fuel            RVA11       Beeches GOLDD              A00   \n",
       "1     Vehicle Fuel            RVA11       Beeches GOLDD              A00   \n",
       "2     Vehicle Fuel            RVA11       Beeches GOLDD              A00   \n",
       "3     Vehicle Fuel            RVA11       Beeches GOLDD              A00   \n",
       "4     Vehicle Fuel            RV191  Moseley Day Centre              A00   \n",
       "5     Vehicle Fuel            RV191  Moseley Day Centre              A00   \n",
       "\n",
       "                    Directorate  \n",
       "0  Adult Social Care and Health  \n",
       "1  Adult Social Care and Health  \n",
       "2  Adult Social Care and Health  \n",
       "3  Adult Social Care and Health  \n",
       "4  Adult Social Care and Health  \n",
       "5  Adult Social Care and Health  "
      ]
     },
     "execution_count": 2,
     "metadata": {},
     "output_type": "execute_result"
    }
   ],
   "source": [
    "# Load data\n",
    "\n",
    "df = pd.read_table('Data/purch.txt')\n",
    "df.head(6)"
   ]
  },
  {
   "cell_type": "code",
   "execution_count": 3,
   "id": "7baabd51",
   "metadata": {},
   "outputs": [
    {
     "name": "stdout",
     "output_type": "stream",
     "text": [
      "<class 'pandas.core.frame.DataFrame'>\n",
      "RangeIndex: 5640 entries, 0 to 5639\n",
      "Data columns (total 14 columns):\n",
      " #   Column              Non-Null Count  Dtype \n",
      "---  ------              --------------  ----- \n",
      " 0   TRANS DATE          5640 non-null   object\n",
      " 1   TRANS VAT DESC      5011 non-null   object\n",
      " 2   ORIGINAL GROSS AMT  5640 non-null   object\n",
      " 3   ORIGINAL CUR        5640 non-null   object\n",
      " 4   BILLING GROSS AMT   5640 non-null   object\n",
      " 5   BILLING CUR CODE    5640 non-null   object\n",
      " 6   MERCHANT NAME       5640 non-null   object\n",
      " 7   CARD NUMBER         5640 non-null   object\n",
      " 8   TRANS CAC CODE 1    5636 non-null   object\n",
      " 9   TRANS CAC DESC 1    5636 non-null   object\n",
      " 10  TRANS CAC CODE 2    5632 non-null   object\n",
      " 11  TRANS CAC DESC 2    5632 non-null   object\n",
      " 12  TRANS CAC CODE 3    5631 non-null   object\n",
      " 13  Directorate         5640 non-null   object\n",
      "dtypes: object(14)\n",
      "memory usage: 617.0+ KB\n"
     ]
    }
   ],
   "source": [
    "# Get information of data\n",
    "\n",
    "df.info()"
   ]
  },
  {
   "cell_type": "code",
   "execution_count": 4,
   "id": "2e38af3f",
   "metadata": {},
   "outputs": [
    {
     "data": {
      "text/plain": [
       "Index(['TRANS DATE', 'TRANS VAT DESC', 'ORIGINAL GROSS AMT', 'ORIGINAL CUR',\n",
       "       'BILLING GROSS AMT', 'BILLING CUR CODE', 'MERCHANT NAME', 'CARD NUMBER',\n",
       "       'TRANS CAC CODE 1', 'TRANS CAC DESC 1', 'TRANS CAC CODE 2',\n",
       "       'TRANS CAC DESC 2', 'TRANS CAC CODE 3', 'Directorate'],\n",
       "      dtype='object')"
      ]
     },
     "execution_count": 4,
     "metadata": {},
     "output_type": "execute_result"
    }
   ],
   "source": [
    "# Columns' name\n",
    "\n",
    "df.columns"
   ]
  },
  {
   "cell_type": "code",
   "execution_count": 5,
   "id": "1ad2a935",
   "metadata": {
    "scrolled": true
   },
   "outputs": [
    {
     "data": {
      "text/plain": [
       "{'TRANS DATE': 39,\n",
       " 'TRANS VAT DESC': 6,\n",
       " 'ORIGINAL GROSS AMT': 3720,\n",
       " 'ORIGINAL CUR': 5,\n",
       " 'BILLING GROSS AMT': 3722,\n",
       " 'BILLING CUR CODE': 1,\n",
       " 'MERCHANT NAME': 1244,\n",
       " 'CARD NUMBER': 607,\n",
       " 'TRANS CAC CODE 1': 80,\n",
       " 'TRANS CAC DESC 1': 80,\n",
       " 'TRANS CAC CODE 2': 476,\n",
       " 'TRANS CAC DESC 2': 473,\n",
       " 'TRANS CAC CODE 3': 4,\n",
       " 'Directorate': 9}"
      ]
     },
     "execution_count": 5,
     "metadata": {},
     "output_type": "execute_result"
    }
   ],
   "source": [
    "# Identify count by variables and it possible values\n",
    "\n",
    "Dictionary = {}\n",
    "for variable in df.columns:\n",
    "    Dictionary[variable] = len(df[variable].unique())\n",
    "    \n",
    "Dictionary"
   ]
  },
  {
   "cell_type": "code",
   "execution_count": 6,
   "id": "94e47d4f",
   "metadata": {},
   "outputs": [],
   "source": [
    "# Transform type of data\n",
    "\n",
    "# First, I replace . by ,\n",
    "df['BILLING GROSS AMT'] = df['BILLING GROSS AMT'].str.replace(',', '')\n",
    "df['ORIGINAL GROSS AMT'] = df['ORIGINAL GROSS AMT'].str.replace(',', '')\n",
    "\n",
    "# Then, change type of data\n",
    "df['BILLING GROSS AMT'] = df['BILLING GROSS AMT'].astype(float)\n",
    "df['ORIGINAL GROSS AMT'] = df['ORIGINAL GROSS AMT'].astype(float)"
   ]
  },
  {
   "cell_type": "markdown",
   "id": "f3c2b700",
   "metadata": {},
   "source": [
    "# Exploratory analysis"
   ]
  },
  {
   "cell_type": "markdown",
   "id": "d57e245d",
   "metadata": {},
   "source": [
    "It is convenient to examine what are the useful grouping categories. <br>\n",
    "The following variables have fewer than 10 possible values, so it's a good idea to explore them: <br>\n",
    "-TRANS VAT DESC, <br>\n",
    "-ORIGINAL CUR, <br>\n",
    "-TRANS CAC CODE 3, and <br>\n",
    "-Directorate."
   ]
  },
  {
   "cell_type": "markdown",
   "id": "9bd97a1f",
   "metadata": {},
   "source": [
    "<center><b>Table 1. ORIGINAL AND BILLING GROSS AMT mean by TRANS VAT DESC</b></center>"
   ]
  },
  {
   "cell_type": "code",
   "execution_count": 7,
   "id": "c50277b9",
   "metadata": {
    "scrolled": true
   },
   "outputs": [
    {
     "data": {
      "text/html": [
       "<div>\n",
       "<style scoped>\n",
       "    .dataframe tbody tr th:only-of-type {\n",
       "        vertical-align: middle;\n",
       "    }\n",
       "\n",
       "    .dataframe tbody tr th {\n",
       "        vertical-align: top;\n",
       "    }\n",
       "\n",
       "    .dataframe thead th {\n",
       "        text-align: right;\n",
       "    }\n",
       "</style>\n",
       "<table border=\"1\" class=\"dataframe\">\n",
       "  <thead>\n",
       "    <tr style=\"text-align: right;\">\n",
       "      <th></th>\n",
       "      <th>TRANS VAT DESC</th>\n",
       "      <th>ORIGINAL_GROSS_AMT_MEAN</th>\n",
       "      <th>ORIGINAL_GROSS_AMT_STD</th>\n",
       "      <th>BILLING_GROSS_AMT_MEAN</th>\n",
       "      <th>BILLING_GROSS_AMT_STD</th>\n",
       "    </tr>\n",
       "  </thead>\n",
       "  <tbody>\n",
       "    <tr>\n",
       "      <th>0</th>\n",
       "      <td>VE</td>\n",
       "      <td>88.564000</td>\n",
       "      <td>101.000638</td>\n",
       "      <td>88.564000</td>\n",
       "      <td>101.000638</td>\n",
       "    </tr>\n",
       "    <tr>\n",
       "      <th>1</th>\n",
       "      <td>VL</td>\n",
       "      <td>57.773143</td>\n",
       "      <td>73.201567</td>\n",
       "      <td>57.773143</td>\n",
       "      <td>73.201567</td>\n",
       "    </tr>\n",
       "    <tr>\n",
       "      <th>2</th>\n",
       "      <td>VR</td>\n",
       "      <td>224.354253</td>\n",
       "      <td>865.025850</td>\n",
       "      <td>224.354253</td>\n",
       "      <td>865.025850</td>\n",
       "    </tr>\n",
       "    <tr>\n",
       "      <th>3</th>\n",
       "      <td>VS</td>\n",
       "      <td>75.641538</td>\n",
       "      <td>29.852021</td>\n",
       "      <td>75.641538</td>\n",
       "      <td>29.852021</td>\n",
       "    </tr>\n",
       "    <tr>\n",
       "      <th>4</th>\n",
       "      <td>VZ</td>\n",
       "      <td>96.928512</td>\n",
       "      <td>1184.881298</td>\n",
       "      <td>61.791554</td>\n",
       "      <td>168.098000</td>\n",
       "    </tr>\n",
       "  </tbody>\n",
       "</table>\n",
       "</div>"
      ],
      "text/plain": [
       "  TRANS VAT DESC  ORIGINAL_GROSS_AMT_MEAN  ORIGINAL_GROSS_AMT_STD  \\\n",
       "0             VE                88.564000              101.000638   \n",
       "1             VL                57.773143               73.201567   \n",
       "2             VR               224.354253              865.025850   \n",
       "3             VS                75.641538               29.852021   \n",
       "4             VZ                96.928512             1184.881298   \n",
       "\n",
       "   BILLING_GROSS_AMT_MEAN  BILLING_GROSS_AMT_STD  \n",
       "0               88.564000             101.000638  \n",
       "1               57.773143              73.201567  \n",
       "2              224.354253             865.025850  \n",
       "3               75.641538              29.852021  \n",
       "4               61.791554             168.098000  "
      ]
     },
     "execution_count": 7,
     "metadata": {},
     "output_type": "execute_result"
    }
   ],
   "source": [
    "# Data mining\n",
    "\n",
    "t1 = df.groupby(by=['TRANS VAT DESC'], as_index=False).agg(BILLING_GROSS_AMT_MEAN=('BILLING GROSS AMT', np.nanmean), \n",
    "                                                           BILLING_GROSS_AMT_STD=('BILLING GROSS AMT', np.nanstd))\n",
    "\n",
    "t2 = df.groupby(by=['TRANS VAT DESC'], as_index=False).agg(ORIGINAL_GROSS_AMT_MEAN=('ORIGINAL GROSS AMT', np.nanmean), \n",
    "                                                           ORIGINAL_GROSS_AMT_STD=('ORIGINAL GROSS AMT', np.nanstd))\n",
    "\n",
    "pd.merge(t2, t1, on=['TRANS VAT DESC'])"
   ]
  },
  {
   "cell_type": "markdown",
   "id": "d886ba14",
   "metadata": {},
   "source": [
    "Hay dos cosas que notar de la tabla de encima: <br>\n",
    "    1. Las desviaciones estandar son altas, esto quiere decir que los datos son muy dispersos como para valorar bien los promedios. <br>\n",
    "    2. Los valores de las variables ORIGINAL GROSS AMT y BULLING GROSS AMT son distintos, a pesar de que parezca que no. Esto nota en los valores de las medias y desviaciones típicos hallados en las 3 tablas siguientes."
   ]
  },
  {
   "cell_type": "markdown",
   "id": "8d9fa88b",
   "metadata": {},
   "source": [
    "<center><b>Table 2. ORIGINAL AND BILLING GROSS AMT mean by CUR</b></center>"
   ]
  },
  {
   "cell_type": "code",
   "execution_count": 8,
   "id": "2b51f38e",
   "metadata": {},
   "outputs": [
    {
     "data": {
      "text/html": [
       "<div>\n",
       "<style scoped>\n",
       "    .dataframe tbody tr th:only-of-type {\n",
       "        vertical-align: middle;\n",
       "    }\n",
       "\n",
       "    .dataframe tbody tr th {\n",
       "        vertical-align: top;\n",
       "    }\n",
       "\n",
       "    .dataframe thead th {\n",
       "        text-align: right;\n",
       "    }\n",
       "</style>\n",
       "<table border=\"1\" class=\"dataframe\">\n",
       "  <thead>\n",
       "    <tr style=\"text-align: right;\">\n",
       "      <th></th>\n",
       "      <th>ORIGINAL CUR</th>\n",
       "      <th>ORIGINAL_GROSS_AMT_MEAN</th>\n",
       "      <th>ORIGINAL_GROSS_AMT_STD</th>\n",
       "      <th>BILLING_GROSS_AMT_MEAN</th>\n",
       "      <th>BILLING_GROSS_AMT_STD</th>\n",
       "    </tr>\n",
       "  </thead>\n",
       "  <tbody>\n",
       "    <tr>\n",
       "      <th>0</th>\n",
       "      <td>AUD</td>\n",
       "      <td>376.760000</td>\n",
       "      <td>NaN</td>\n",
       "      <td>222.590000</td>\n",
       "      <td>NaN</td>\n",
       "    </tr>\n",
       "    <tr>\n",
       "      <th>1</th>\n",
       "      <td>EUR</td>\n",
       "      <td>105.586667</td>\n",
       "      <td>122.519842</td>\n",
       "      <td>95.815556</td>\n",
       "      <td>111.073535</td>\n",
       "    </tr>\n",
       "    <tr>\n",
       "      <th>2</th>\n",
       "      <td>GBP</td>\n",
       "      <td>268.603985</td>\n",
       "      <td>783.980266</td>\n",
       "      <td>268.603985</td>\n",
       "      <td>783.980266</td>\n",
       "    </tr>\n",
       "    <tr>\n",
       "      <th>3</th>\n",
       "      <td>HUF</td>\n",
       "      <td>28197.666667</td>\n",
       "      <td>21841.207140</td>\n",
       "      <td>82.790000</td>\n",
       "      <td>63.985509</td>\n",
       "    </tr>\n",
       "    <tr>\n",
       "      <th>4</th>\n",
       "      <td>USD</td>\n",
       "      <td>180.697778</td>\n",
       "      <td>278.846732</td>\n",
       "      <td>135.191111</td>\n",
       "      <td>210.612078</td>\n",
       "    </tr>\n",
       "  </tbody>\n",
       "</table>\n",
       "</div>"
      ],
      "text/plain": [
       "  ORIGINAL CUR  ORIGINAL_GROSS_AMT_MEAN  ORIGINAL_GROSS_AMT_STD  \\\n",
       "0          AUD               376.760000                     NaN   \n",
       "1          EUR               105.586667              122.519842   \n",
       "2          GBP               268.603985              783.980266   \n",
       "3          HUF             28197.666667            21841.207140   \n",
       "4          USD               180.697778              278.846732   \n",
       "\n",
       "   BILLING_GROSS_AMT_MEAN  BILLING_GROSS_AMT_STD  \n",
       "0              222.590000                    NaN  \n",
       "1               95.815556             111.073535  \n",
       "2              268.603985             783.980266  \n",
       "3               82.790000              63.985509  \n",
       "4              135.191111             210.612078  "
      ]
     },
     "execution_count": 8,
     "metadata": {},
     "output_type": "execute_result"
    }
   ],
   "source": [
    "m1 = df.groupby(by=['ORIGINAL CUR'], as_index=False).agg(BILLING_GROSS_AMT_MEAN=('BILLING GROSS AMT', np.nanmean), \n",
    "                                                           BILLING_GROSS_AMT_STD=('BILLING GROSS AMT', np.nanstd))\n",
    "\n",
    "m2 = df.groupby(by=['ORIGINAL CUR'], as_index=False).agg(ORIGINAL_GROSS_AMT_MEAN=('ORIGINAL GROSS AMT', np.nanmean), \n",
    "                                                           ORIGINAL_GROSS_AMT_STD=('ORIGINAL GROSS AMT', np.nanstd))\n",
    "\n",
    "\n",
    "pd.merge(m2, m1, on=['ORIGINAL CUR'])"
   ]
  },
  {
   "cell_type": "markdown",
   "id": "d9ea8894",
   "metadata": {},
   "source": [
    "<center><b>Table 3. ORIGINAL AND BILLING GROSS AMT mean by TRANS CAC CODE 3</b></center>"
   ]
  },
  {
   "cell_type": "code",
   "execution_count": 9,
   "id": "851d1516",
   "metadata": {},
   "outputs": [
    {
     "data": {
      "text/html": [
       "<div>\n",
       "<style scoped>\n",
       "    .dataframe tbody tr th:only-of-type {\n",
       "        vertical-align: middle;\n",
       "    }\n",
       "\n",
       "    .dataframe tbody tr th {\n",
       "        vertical-align: top;\n",
       "    }\n",
       "\n",
       "    .dataframe thead th {\n",
       "        text-align: right;\n",
       "    }\n",
       "</style>\n",
       "<table border=\"1\" class=\"dataframe\">\n",
       "  <thead>\n",
       "    <tr style=\"text-align: right;\">\n",
       "      <th></th>\n",
       "      <th>TRANS CAC CODE 3</th>\n",
       "      <th>ORIGINAL_GROSS_AMT_MEAN</th>\n",
       "      <th>ORIGINAL_GROSS_AMT_STD</th>\n",
       "      <th>BILLING_GROSS_AMT_MEAN</th>\n",
       "      <th>BILLING_GROSS_AMT_STD</th>\n",
       "    </tr>\n",
       "  </thead>\n",
       "  <tbody>\n",
       "    <tr>\n",
       "      <th>0</th>\n",
       "      <td>A00</td>\n",
       "      <td>284.016741</td>\n",
       "      <td>1096.407748</td>\n",
       "      <td>268.871285</td>\n",
       "      <td>784.374581</td>\n",
       "    </tr>\n",
       "    <tr>\n",
       "      <th>1</th>\n",
       "      <td>A46</td>\n",
       "      <td>86.347692</td>\n",
       "      <td>90.344530</td>\n",
       "      <td>86.347692</td>\n",
       "      <td>90.344530</td>\n",
       "    </tr>\n",
       "    <tr>\n",
       "      <th>2</th>\n",
       "      <td>A5F</td>\n",
       "      <td>122.633333</td>\n",
       "      <td>113.258373</td>\n",
       "      <td>122.633333</td>\n",
       "      <td>113.258373</td>\n",
       "    </tr>\n",
       "  </tbody>\n",
       "</table>\n",
       "</div>"
      ],
      "text/plain": [
       "  TRANS CAC CODE 3  ORIGINAL_GROSS_AMT_MEAN  ORIGINAL_GROSS_AMT_STD  \\\n",
       "0              A00               284.016741             1096.407748   \n",
       "1              A46                86.347692               90.344530   \n",
       "2              A5F               122.633333              113.258373   \n",
       "\n",
       "   BILLING_GROSS_AMT_MEAN  BILLING_GROSS_AMT_STD  \n",
       "0              268.871285             784.374581  \n",
       "1               86.347692              90.344530  \n",
       "2              122.633333             113.258373  "
      ]
     },
     "execution_count": 9,
     "metadata": {},
     "output_type": "execute_result"
    }
   ],
   "source": [
    "m1 = df.groupby(by=['TRANS CAC CODE 3'], as_index=False).agg(BILLING_GROSS_AMT_MEAN=('BILLING GROSS AMT', np.nanmean), \n",
    "                                                           BILLING_GROSS_AMT_STD=('BILLING GROSS AMT', np.nanstd))\n",
    "\n",
    "m2 = df.groupby(by=['TRANS CAC CODE 3'], as_index=False).agg(ORIGINAL_GROSS_AMT_MEAN=('ORIGINAL GROSS AMT', np.nanmean), \n",
    "                                                           ORIGINAL_GROSS_AMT_STD=('ORIGINAL GROSS AMT', np.nanstd))\n",
    "\n",
    "pd.merge(m2, m1, on=['TRANS CAC CODE 3'])"
   ]
  },
  {
   "cell_type": "markdown",
   "id": "c1bc0ffa",
   "metadata": {},
   "source": [
    "Hay que notar en la tabla de arriba que datos son mucho más dispersos paracada código de la variable TRANS CAC CODE 3. <br>"
   ]
  },
  {
   "cell_type": "markdown",
   "id": "6e334b56",
   "metadata": {},
   "source": [
    "<center><b>Table 4. ORIGINAL AND BILLING GROSS AMT mean by Directorate</b></center>"
   ]
  },
  {
   "cell_type": "code",
   "execution_count": 10,
   "id": "cc631893",
   "metadata": {},
   "outputs": [
    {
     "data": {
      "text/html": [
       "<div>\n",
       "<style scoped>\n",
       "    .dataframe tbody tr th:only-of-type {\n",
       "        vertical-align: middle;\n",
       "    }\n",
       "\n",
       "    .dataframe tbody tr th {\n",
       "        vertical-align: top;\n",
       "    }\n",
       "\n",
       "    .dataframe thead th {\n",
       "        text-align: right;\n",
       "    }\n",
       "</style>\n",
       "<table border=\"1\" class=\"dataframe\">\n",
       "  <thead>\n",
       "    <tr style=\"text-align: right;\">\n",
       "      <th></th>\n",
       "      <th>Directorate</th>\n",
       "      <th>ORIGINAL_GROSS_AMT_MEAN</th>\n",
       "      <th>ORIGINAL_GROSS_AMT_STD</th>\n",
       "      <th>BILLING_GROSS_AMT_MEAN</th>\n",
       "      <th>BILLING_GROSS_AMT_STD</th>\n",
       "    </tr>\n",
       "  </thead>\n",
       "  <tbody>\n",
       "    <tr>\n",
       "      <th>0</th>\n",
       "      <td>Adult Social Care and Health</td>\n",
       "      <td>331.403265</td>\n",
       "      <td>2234.109260</td>\n",
       "      <td>331.403265</td>\n",
       "      <td>2234.109260</td>\n",
       "    </tr>\n",
       "    <tr>\n",
       "      <th>1</th>\n",
       "      <td>CYP&amp;F</td>\n",
       "      <td>66.550377</td>\n",
       "      <td>124.335740</td>\n",
       "      <td>66.549245</td>\n",
       "      <td>124.336277</td>\n",
       "    </tr>\n",
       "    <tr>\n",
       "      <th>2</th>\n",
       "      <td>CYP&amp;F</td>\n",
       "      <td>327.881429</td>\n",
       "      <td>385.370614</td>\n",
       "      <td>327.881429</td>\n",
       "      <td>385.370614</td>\n",
       "    </tr>\n",
       "    <tr>\n",
       "      <th>3</th>\n",
       "      <td>CYP&amp;F</td>\n",
       "      <td>117.640000</td>\n",
       "      <td>146.574737</td>\n",
       "      <td>117.640000</td>\n",
       "      <td>146.574737</td>\n",
       "    </tr>\n",
       "    <tr>\n",
       "      <th>4</th>\n",
       "      <td>CYP&amp;F SCHOOLS</td>\n",
       "      <td>65.342753</td>\n",
       "      <td>101.564603</td>\n",
       "      <td>65.222719</td>\n",
       "      <td>101.237755</td>\n",
       "    </tr>\n",
       "    <tr>\n",
       "      <th>5</th>\n",
       "      <td>Corporate Resources</td>\n",
       "      <td>368.763743</td>\n",
       "      <td>2973.158102</td>\n",
       "      <td>147.598901</td>\n",
       "      <td>435.041100</td>\n",
       "    </tr>\n",
       "    <tr>\n",
       "      <th>6</th>\n",
       "      <td>DEVELOPMENT</td>\n",
       "      <td>78.570930</td>\n",
       "      <td>87.941759</td>\n",
       "      <td>78.470000</td>\n",
       "      <td>87.975465</td>\n",
       "    </tr>\n",
       "    <tr>\n",
       "      <th>7</th>\n",
       "      <td>Development</td>\n",
       "      <td>38.574286</td>\n",
       "      <td>59.793120</td>\n",
       "      <td>38.574286</td>\n",
       "      <td>59.793120</td>\n",
       "    </tr>\n",
       "    <tr>\n",
       "      <th>8</th>\n",
       "      <td>Local Services</td>\n",
       "      <td>677.325232</td>\n",
       "      <td>1060.514535</td>\n",
       "      <td>677.218689</td>\n",
       "      <td>1060.514194</td>\n",
       "    </tr>\n",
       "  </tbody>\n",
       "</table>\n",
       "</div>"
      ],
      "text/plain": [
       "                    Directorate  ORIGINAL_GROSS_AMT_MEAN  \\\n",
       "0  Adult Social Care and Health               331.403265   \n",
       "1                         CYP&F                66.550377   \n",
       "2                        CYP&F                327.881429   \n",
       "3                       CYP&F                 117.640000   \n",
       "4                 CYP&F SCHOOLS                65.342753   \n",
       "5           Corporate Resources               368.763743   \n",
       "6                   DEVELOPMENT                78.570930   \n",
       "7                   Development                38.574286   \n",
       "8                Local Services               677.325232   \n",
       "\n",
       "   ORIGINAL_GROSS_AMT_STD  BILLING_GROSS_AMT_MEAN  BILLING_GROSS_AMT_STD  \n",
       "0             2234.109260              331.403265            2234.109260  \n",
       "1              124.335740               66.549245             124.336277  \n",
       "2              385.370614              327.881429             385.370614  \n",
       "3              146.574737              117.640000             146.574737  \n",
       "4              101.564603               65.222719             101.237755  \n",
       "5             2973.158102              147.598901             435.041100  \n",
       "6               87.941759               78.470000              87.975465  \n",
       "7               59.793120               38.574286              59.793120  \n",
       "8             1060.514535              677.218689            1060.514194  "
      ]
     },
     "execution_count": 10,
     "metadata": {},
     "output_type": "execute_result"
    }
   ],
   "source": [
    "m1 = df.groupby(by=['Directorate'], as_index=False).agg(BILLING_GROSS_AMT_MEAN=('BILLING GROSS AMT', np.nanmean), \n",
    "                                                           BILLING_GROSS_AMT_STD=('BILLING GROSS AMT', np.nanstd))\n",
    "\n",
    "m2 = df.groupby(by=['Directorate'], as_index=False).agg(ORIGINAL_GROSS_AMT_MEAN=('ORIGINAL GROSS AMT', np.nanmean), \n",
    "                                                           ORIGINAL_GROSS_AMT_STD=('ORIGINAL GROSS AMT', np.nanstd))\n",
    "\n",
    "important = pd.merge(m2, m1, on=['Directorate'])\n",
    "\n",
    "important"
   ]
  },
  {
   "cell_type": "markdown",
   "id": "e640ac96",
   "metadata": {},
   "source": [
    "Como se observa, hay un problema en la categoría CYP&F, pues se asignan 3 grupos diferentes para estas; probablemente se deba a espacios adincionales en su registro. Así mismo para las categorías DEVELOPMENT y Development. Esto se corregirá antes de analizar los datos. <br>\n",
    "Para verificar esto, vamos a servirnos de la siguiente línea de código escrita a continuación."
   ]
  },
  {
   "cell_type": "code",
   "execution_count": 11,
   "id": "726eb89f",
   "metadata": {},
   "outputs": [
    {
     "data": {
      "text/plain": [
       "array(['Adult Social Care and Health', 'CYP&F', 'CYP&F ', 'CYP&F  ',\n",
       "       'CYP&F SCHOOLS', 'Corporate Resources', 'DEVELOPMENT',\n",
       "       'Development', 'Local Services'], dtype=object)"
      ]
     },
     "execution_count": 11,
     "metadata": {},
     "output_type": "execute_result"
    }
   ],
   "source": [
    "# All posibble values\n",
    "\n",
    "important['Directorate'].unique()"
   ]
  },
  {
   "cell_type": "markdown",
   "id": "9c72f61b",
   "metadata": {},
   "source": [
    "Es importante corregir este error en toda la base, así que:"
   ]
  },
  {
   "cell_type": "code",
   "execution_count": 12,
   "id": "dbe273ee",
   "metadata": {},
   "outputs": [],
   "source": [
    "# Reemplazamos los caracteres, para corregir los datos.\n",
    "df['Directorate'] = df['Directorate'].str.replace('CYP&F ', 'CYP&F')\n",
    "df['Directorate'] = df['Directorate'].str.replace('CYP&F  ', 'CYP&F')\n",
    "df['Directorate'] = df['Directorate'].str.replace('DEVELOPMENT', 'Development')"
   ]
  },
  {
   "cell_type": "markdown",
   "id": "63a7a325",
   "metadata": {},
   "source": [
    "Reprocesando:"
   ]
  },
  {
   "cell_type": "code",
   "execution_count": 13,
   "id": "c2a1dba7",
   "metadata": {},
   "outputs": [
    {
     "data": {
      "text/html": [
       "<div>\n",
       "<style scoped>\n",
       "    .dataframe tbody tr th:only-of-type {\n",
       "        vertical-align: middle;\n",
       "    }\n",
       "\n",
       "    .dataframe tbody tr th {\n",
       "        vertical-align: top;\n",
       "    }\n",
       "\n",
       "    .dataframe thead th {\n",
       "        text-align: right;\n",
       "    }\n",
       "</style>\n",
       "<table border=\"1\" class=\"dataframe\">\n",
       "  <thead>\n",
       "    <tr style=\"text-align: right;\">\n",
       "      <th></th>\n",
       "      <th>Directorate</th>\n",
       "      <th>ORIGINAL_GROSS_AMT_MEAN</th>\n",
       "      <th>ORIGINAL_GROSS_AMT_STD</th>\n",
       "      <th>BILLING_GROSS_AMT_MEAN</th>\n",
       "      <th>BILLING_GROSS_AMT_STD</th>\n",
       "    </tr>\n",
       "  </thead>\n",
       "  <tbody>\n",
       "    <tr>\n",
       "      <th>0</th>\n",
       "      <td>Adult Social Care and Health</td>\n",
       "      <td>331.403265</td>\n",
       "      <td>2234.109260</td>\n",
       "      <td>331.403265</td>\n",
       "      <td>2234.109260</td>\n",
       "    </tr>\n",
       "    <tr>\n",
       "      <th>1</th>\n",
       "      <td>CYP&amp;F</td>\n",
       "      <td>72.678744</td>\n",
       "      <td>141.075013</td>\n",
       "      <td>72.677638</td>\n",
       "      <td>141.075524</td>\n",
       "    </tr>\n",
       "    <tr>\n",
       "      <th>2</th>\n",
       "      <td>CYP&amp;F</td>\n",
       "      <td>117.640000</td>\n",
       "      <td>146.574737</td>\n",
       "      <td>117.640000</td>\n",
       "      <td>146.574737</td>\n",
       "    </tr>\n",
       "    <tr>\n",
       "      <th>3</th>\n",
       "      <td>CYP&amp;FSCHOOLS</td>\n",
       "      <td>65.342753</td>\n",
       "      <td>101.564603</td>\n",
       "      <td>65.222719</td>\n",
       "      <td>101.237755</td>\n",
       "    </tr>\n",
       "    <tr>\n",
       "      <th>4</th>\n",
       "      <td>Corporate Resources</td>\n",
       "      <td>368.763743</td>\n",
       "      <td>2973.158102</td>\n",
       "      <td>147.598901</td>\n",
       "      <td>435.041100</td>\n",
       "    </tr>\n",
       "    <tr>\n",
       "      <th>5</th>\n",
       "      <td>Development</td>\n",
       "      <td>72.971400</td>\n",
       "      <td>85.224711</td>\n",
       "      <td>72.884600</td>\n",
       "      <td>85.248713</td>\n",
       "    </tr>\n",
       "    <tr>\n",
       "      <th>6</th>\n",
       "      <td>Local Services</td>\n",
       "      <td>677.325232</td>\n",
       "      <td>1060.514535</td>\n",
       "      <td>677.218689</td>\n",
       "      <td>1060.514194</td>\n",
       "    </tr>\n",
       "  </tbody>\n",
       "</table>\n",
       "</div>"
      ],
      "text/plain": [
       "                    Directorate  ORIGINAL_GROSS_AMT_MEAN  \\\n",
       "0  Adult Social Care and Health               331.403265   \n",
       "1                         CYP&F                72.678744   \n",
       "2                        CYP&F                117.640000   \n",
       "3                  CYP&FSCHOOLS                65.342753   \n",
       "4           Corporate Resources               368.763743   \n",
       "5                   Development                72.971400   \n",
       "6                Local Services               677.325232   \n",
       "\n",
       "   ORIGINAL_GROSS_AMT_STD  BILLING_GROSS_AMT_MEAN  BILLING_GROSS_AMT_STD  \n",
       "0             2234.109260              331.403265            2234.109260  \n",
       "1              141.075013               72.677638             141.075524  \n",
       "2              146.574737              117.640000             146.574737  \n",
       "3              101.564603               65.222719             101.237755  \n",
       "4             2973.158102              147.598901             435.041100  \n",
       "5               85.224711               72.884600              85.248713  \n",
       "6             1060.514535              677.218689            1060.514194  "
      ]
     },
     "execution_count": 13,
     "metadata": {},
     "output_type": "execute_result"
    }
   ],
   "source": [
    "m1 = df.groupby(by=['Directorate'], as_index=False).agg(BILLING_GROSS_AMT_MEAN=('BILLING GROSS AMT', np.nanmean), \n",
    "                                                           BILLING_GROSS_AMT_STD=('BILLING GROSS AMT', np.nanstd))\n",
    "\n",
    "m2 = df.groupby(by=['Directorate'], as_index=False).agg(ORIGINAL_GROSS_AMT_MEAN=('ORIGINAL GROSS AMT', np.nanmean), \n",
    "                                                           ORIGINAL_GROSS_AMT_STD=('ORIGINAL GROSS AMT', np.nanstd))\n",
    "\n",
    "important = pd.merge(m2, m1, on=['Directorate'])\n",
    "\n",
    "important"
   ]
  },
  {
   "cell_type": "code",
   "execution_count": 14,
   "id": "23db7adb",
   "metadata": {},
   "outputs": [
    {
     "data": {
      "text/plain": [
       "array(['Adult Social Care and Health', 'CYP&F', 'CYP&F ', 'CYP&FSCHOOLS',\n",
       "       'Corporate Resources', 'Development', 'Local Services'],\n",
       "      dtype=object)"
      ]
     },
     "execution_count": 14,
     "metadata": {},
     "output_type": "execute_result"
    }
   ],
   "source": [
    "# All posibble values\n",
    "\n",
    "important['Directorate'].unique()"
   ]
  },
  {
   "cell_type": "markdown",
   "id": "f5da97a2",
   "metadata": {},
   "source": [
    "# Clustering"
   ]
  },
  {
   "cell_type": "markdown",
   "id": "9a0633c8",
   "metadata": {},
   "source": [
    "Primero hay que tomar un corte para hacer el análisis, para eso vamos a tomar temporalmente la fecha más reciente. (Sería mejor escribir un algoritmo para seleccionar al menos una transacción de una tarjeta en el rango de una fecha*, pero vamos a dejar esto de momento). <br>\n",
    "Además, hay que eliminar de la base la variable CARD NUMBER porque no es una variable que contenga información de las características de las observaciones; más bien codifica las observaciones, pero como contiene asteríscos para salvaguardar la privacidad de los operadores de las transacciones esto limita su identificación puntual.\n",
    "Por último, no olvidemos quitar la columna TRANS DATE que solo indica la fecha de corte al que se recuperó la información.\n",
    "\n",
    "*Esto es así porque tiendo a creer, sin tener mucho detalle de la información, que un cliente (si fuere el caso) puede realizar una transacción con una frecuencia menor al día que a la semana."
   ]
  },
  {
   "cell_type": "code",
   "execution_count": 15,
   "id": "d305fcaf",
   "metadata": {},
   "outputs": [
    {
     "data": {
      "text/plain": [
       "5425    31/01/18\n",
       "2325    31/01/18\n",
       "4160    31/01/18\n",
       "4159    31/01/18\n",
       "2362    31/01/18\n",
       "          ...   \n",
       "4964    01/02/18\n",
       "4963    01/02/18\n",
       "4962    01/02/18\n",
       "4961    01/02/18\n",
       "4966    01/02/18\n",
       "Name: TRANS DATE, Length: 5640, dtype: object"
      ]
     },
     "execution_count": 15,
     "metadata": {},
     "output_type": "execute_result"
    }
   ],
   "source": [
    "df['TRANS DATE'].sort_values(ascending=False)"
   ]
  },
  {
   "cell_type": "code",
   "execution_count": 16,
   "id": "4e4e8d58",
   "metadata": {},
   "outputs": [
    {
     "data": {
      "text/html": [
       "<div>\n",
       "<style scoped>\n",
       "    .dataframe tbody tr th:only-of-type {\n",
       "        vertical-align: middle;\n",
       "    }\n",
       "\n",
       "    .dataframe tbody tr th {\n",
       "        vertical-align: top;\n",
       "    }\n",
       "\n",
       "    .dataframe thead th {\n",
       "        text-align: right;\n",
       "    }\n",
       "</style>\n",
       "<table border=\"1\" class=\"dataframe\">\n",
       "  <thead>\n",
       "    <tr style=\"text-align: right;\">\n",
       "      <th></th>\n",
       "      <th>TRANS VAT DESC</th>\n",
       "      <th>ORIGINAL GROSS AMT</th>\n",
       "      <th>ORIGINAL CUR</th>\n",
       "      <th>BILLING GROSS AMT</th>\n",
       "      <th>BILLING CUR CODE</th>\n",
       "      <th>MERCHANT NAME</th>\n",
       "      <th>TRANS CAC CODE 1</th>\n",
       "      <th>TRANS CAC DESC 1</th>\n",
       "      <th>TRANS CAC CODE 2</th>\n",
       "      <th>TRANS CAC DESC 2</th>\n",
       "      <th>TRANS CAC CODE 3</th>\n",
       "      <th>Directorate</th>\n",
       "    </tr>\n",
       "  </thead>\n",
       "  <tbody>\n",
       "    <tr>\n",
       "      <th>6</th>\n",
       "      <td>VR</td>\n",
       "      <td>51.43</td>\n",
       "      <td>GBP</td>\n",
       "      <td>51.43</td>\n",
       "      <td>GBP</td>\n",
       "      <td>shell kings 587</td>\n",
       "      <td>K020</td>\n",
       "      <td>Vehicle Fuel</td>\n",
       "      <td>RV191</td>\n",
       "      <td>Moseley Day Centre</td>\n",
       "      <td>A00</td>\n",
       "      <td>Adult Social Care and Health</td>\n",
       "    </tr>\n",
       "    <tr>\n",
       "      <th>16</th>\n",
       "      <td>VR</td>\n",
       "      <td>75.00</td>\n",
       "      <td>GBP</td>\n",
       "      <td>75.00</td>\n",
       "      <td>GBP</td>\n",
       "      <td>hmcourts-service.g</td>\n",
       "      <td>MC70</td>\n",
       "      <td>Supplies &amp; Sev Mic</td>\n",
       "      <td>RV3T0</td>\n",
       "      <td>Mental Health Management Budget</td>\n",
       "      <td>A00</td>\n",
       "      <td>Adult Social Care and Health</td>\n",
       "    </tr>\n",
       "    <tr>\n",
       "      <th>51</th>\n",
       "      <td>VR</td>\n",
       "      <td>55.54</td>\n",
       "      <td>GBP</td>\n",
       "      <td>55.54</td>\n",
       "      <td>GBP</td>\n",
       "      <td>weoley castle</td>\n",
       "      <td>K020</td>\n",
       "      <td>Vehicle Fuel</td>\n",
       "      <td>RV18X</td>\n",
       "      <td>Harborne Day Centre</td>\n",
       "      <td>A00</td>\n",
       "      <td>Adult Social Care and Health</td>\n",
       "    </tr>\n",
       "    <tr>\n",
       "      <th>64</th>\n",
       "      <td>VR</td>\n",
       "      <td>39.09</td>\n",
       "      <td>GBP</td>\n",
       "      <td>39.09</td>\n",
       "      <td>GBP</td>\n",
       "      <td>texaco ash motor</td>\n",
       "      <td>K020</td>\n",
       "      <td>Vehicle Fuel</td>\n",
       "      <td>RV192</td>\n",
       "      <td>Sparkbrook Resource Centre</td>\n",
       "      <td>A00</td>\n",
       "      <td>Adult Social Care and Health</td>\n",
       "    </tr>\n",
       "  </tbody>\n",
       "</table>\n",
       "</div>"
      ],
      "text/plain": [
       "   TRANS VAT DESC  ORIGINAL GROSS AMT ORIGINAL CUR  BILLING GROSS AMT  \\\n",
       "6              VR               51.43          GBP              51.43   \n",
       "16             VR               75.00          GBP              75.00   \n",
       "51             VR               55.54          GBP              55.54   \n",
       "64             VR               39.09          GBP              39.09   \n",
       "\n",
       "   BILLING CUR CODE       MERCHANT NAME TRANS CAC CODE 1    TRANS CAC DESC 1  \\\n",
       "6               GBP     shell kings 587             K020        Vehicle Fuel   \n",
       "16              GBP  hmcourts-service.g             MC70  Supplies & Sev Mic   \n",
       "51              GBP       weoley castle             K020        Vehicle Fuel   \n",
       "64              GBP    texaco ash motor             K020        Vehicle Fuel   \n",
       "\n",
       "   TRANS CAC CODE 2                 TRANS CAC DESC 2 TRANS CAC CODE 3  \\\n",
       "6             RV191               Moseley Day Centre              A00   \n",
       "16            RV3T0  Mental Health Management Budget              A00   \n",
       "51            RV18X              Harborne Day Centre              A00   \n",
       "64            RV192       Sparkbrook Resource Centre              A00   \n",
       "\n",
       "                     Directorate  \n",
       "6   Adult Social Care and Health  \n",
       "16  Adult Social Care and Health  \n",
       "51  Adult Social Care and Health  \n",
       "64  Adult Social Care and Health  "
      ]
     },
     "execution_count": 16,
     "metadata": {},
     "output_type": "execute_result"
    }
   ],
   "source": [
    "df_kurt = df[df['TRANS DATE'] == '31/01/18']\n",
    "df_kurt = df_kurt.drop(columns=['TRANS DATE', 'CARD NUMBER'])\n",
    "# Alson we can delet CAR NUMBER column with line df_kurt = df_kurt.loc[:, ~df_kurt.columns.isin(['CARD NUMBER'])]\n",
    "df_kurt.head(4)"
   ]
  },
  {
   "cell_type": "markdown",
   "id": "5af2062f",
   "metadata": {},
   "source": [
    "# Cálculo de distancias\n",
    "Vamos a usar el método de Gower para calcular las distancias entre variables cualitativas y cuantitativas que luego vamos a agrupar con DBSCAN. <br>\n",
    "Para una lectura introductoria revisar: https://towardsdatascience.com/clustering-on-numerical-and-categorical-features-6e0ebcf1cbad"
   ]
  },
  {
   "cell_type": "code",
   "execution_count": 17,
   "id": "987121a2",
   "metadata": {},
   "outputs": [
    {
     "data": {
      "text/html": [
       "<div>\n",
       "<style scoped>\n",
       "    .dataframe tbody tr th:only-of-type {\n",
       "        vertical-align: middle;\n",
       "    }\n",
       "\n",
       "    .dataframe tbody tr th {\n",
       "        vertical-align: top;\n",
       "    }\n",
       "\n",
       "    .dataframe thead th {\n",
       "        text-align: right;\n",
       "    }\n",
       "</style>\n",
       "<table border=\"1\" class=\"dataframe\">\n",
       "  <thead>\n",
       "    <tr style=\"text-align: right;\">\n",
       "      <th></th>\n",
       "      <th>0</th>\n",
       "      <th>1</th>\n",
       "      <th>2</th>\n",
       "      <th>3</th>\n",
       "      <th>4</th>\n",
       "      <th>5</th>\n",
       "      <th>6</th>\n",
       "      <th>7</th>\n",
       "      <th>8</th>\n",
       "      <th>9</th>\n",
       "      <th>...</th>\n",
       "      <th>243</th>\n",
       "      <th>244</th>\n",
       "      <th>245</th>\n",
       "      <th>246</th>\n",
       "      <th>247</th>\n",
       "      <th>248</th>\n",
       "      <th>249</th>\n",
       "      <th>250</th>\n",
       "      <th>251</th>\n",
       "      <th>252</th>\n",
       "    </tr>\n",
       "  </thead>\n",
       "  <tbody>\n",
       "    <tr>\n",
       "      <th>0</th>\n",
       "      <td>0.000000</td>\n",
       "      <td>0.417445</td>\n",
       "      <td>0.250136</td>\n",
       "      <td>0.250407</td>\n",
       "      <td>0.083734</td>\n",
       "      <td>0.000367</td>\n",
       "      <td>0.250768</td>\n",
       "      <td>0.671467</td>\n",
       "      <td>0.597056</td>\n",
       "      <td>0.333586</td>\n",
       "      <td>...</td>\n",
       "      <td>0.501347</td>\n",
       "      <td>0.584539</td>\n",
       "      <td>0.549457</td>\n",
       "      <td>0.619383</td>\n",
       "      <td>0.564192</td>\n",
       "      <td>0.500283</td>\n",
       "      <td>0.501425</td>\n",
       "      <td>0.512374</td>\n",
       "      <td>0.501103</td>\n",
       "      <td>0.584800</td>\n",
       "    </tr>\n",
       "    <tr>\n",
       "      <th>1</th>\n",
       "      <td>0.417445</td>\n",
       "      <td>0.000000</td>\n",
       "      <td>0.417309</td>\n",
       "      <td>0.417852</td>\n",
       "      <td>0.417846</td>\n",
       "      <td>0.417077</td>\n",
       "      <td>0.416676</td>\n",
       "      <td>0.670689</td>\n",
       "      <td>0.596278</td>\n",
       "      <td>0.500525</td>\n",
       "      <td>...</td>\n",
       "      <td>0.502125</td>\n",
       "      <td>0.585317</td>\n",
       "      <td>0.550234</td>\n",
       "      <td>0.620161</td>\n",
       "      <td>0.564970</td>\n",
       "      <td>0.500495</td>\n",
       "      <td>0.502203</td>\n",
       "      <td>0.511597</td>\n",
       "      <td>0.501881</td>\n",
       "      <td>0.585578</td>\n",
       "    </tr>\n",
       "    <tr>\n",
       "      <th>2</th>\n",
       "      <td>0.250136</td>\n",
       "      <td>0.417309</td>\n",
       "      <td>0.000000</td>\n",
       "      <td>0.250543</td>\n",
       "      <td>0.250537</td>\n",
       "      <td>0.250232</td>\n",
       "      <td>0.000633</td>\n",
       "      <td>0.671332</td>\n",
       "      <td>0.596920</td>\n",
       "      <td>0.333451</td>\n",
       "      <td>...</td>\n",
       "      <td>0.501482</td>\n",
       "      <td>0.584675</td>\n",
       "      <td>0.549592</td>\n",
       "      <td>0.619519</td>\n",
       "      <td>0.564328</td>\n",
       "      <td>0.500147</td>\n",
       "      <td>0.501561</td>\n",
       "      <td>0.512239</td>\n",
       "      <td>0.501239</td>\n",
       "      <td>0.584936</td>\n",
       "    </tr>\n",
       "    <tr>\n",
       "      <th>3</th>\n",
       "      <td>0.250407</td>\n",
       "      <td>0.417852</td>\n",
       "      <td>0.250543</td>\n",
       "      <td>0.000000</td>\n",
       "      <td>0.250006</td>\n",
       "      <td>0.250775</td>\n",
       "      <td>0.251176</td>\n",
       "      <td>0.671874</td>\n",
       "      <td>0.597463</td>\n",
       "      <td>0.333994</td>\n",
       "      <td>...</td>\n",
       "      <td>0.500939</td>\n",
       "      <td>0.584132</td>\n",
       "      <td>0.549049</td>\n",
       "      <td>0.618976</td>\n",
       "      <td>0.563785</td>\n",
       "      <td>0.500690</td>\n",
       "      <td>0.501018</td>\n",
       "      <td>0.512782</td>\n",
       "      <td>0.500696</td>\n",
       "      <td>0.584393</td>\n",
       "    </tr>\n",
       "    <tr>\n",
       "      <th>4</th>\n",
       "      <td>0.083734</td>\n",
       "      <td>0.417846</td>\n",
       "      <td>0.250537</td>\n",
       "      <td>0.250006</td>\n",
       "      <td>0.000000</td>\n",
       "      <td>0.084102</td>\n",
       "      <td>0.251169</td>\n",
       "      <td>0.671868</td>\n",
       "      <td>0.597457</td>\n",
       "      <td>0.333988</td>\n",
       "      <td>...</td>\n",
       "      <td>0.500946</td>\n",
       "      <td>0.584138</td>\n",
       "      <td>0.549056</td>\n",
       "      <td>0.618982</td>\n",
       "      <td>0.563791</td>\n",
       "      <td>0.500684</td>\n",
       "      <td>0.501024</td>\n",
       "      <td>0.512775</td>\n",
       "      <td>0.500702</td>\n",
       "      <td>0.584399</td>\n",
       "    </tr>\n",
       "    <tr>\n",
       "      <th>...</th>\n",
       "      <td>...</td>\n",
       "      <td>...</td>\n",
       "      <td>...</td>\n",
       "      <td>...</td>\n",
       "      <td>...</td>\n",
       "      <td>...</td>\n",
       "      <td>...</td>\n",
       "      <td>...</td>\n",
       "      <td>...</td>\n",
       "      <td>...</td>\n",
       "      <td>...</td>\n",
       "      <td>...</td>\n",
       "      <td>...</td>\n",
       "      <td>...</td>\n",
       "      <td>...</td>\n",
       "      <td>...</td>\n",
       "      <td>...</td>\n",
       "      <td>...</td>\n",
       "      <td>...</td>\n",
       "      <td>...</td>\n",
       "      <td>...</td>\n",
       "    </tr>\n",
       "    <tr>\n",
       "      <th>248</th>\n",
       "      <td>0.500283</td>\n",
       "      <td>0.500495</td>\n",
       "      <td>0.500147</td>\n",
       "      <td>0.500690</td>\n",
       "      <td>0.500684</td>\n",
       "      <td>0.500085</td>\n",
       "      <td>0.500486</td>\n",
       "      <td>0.671184</td>\n",
       "      <td>0.596773</td>\n",
       "      <td>0.500030</td>\n",
       "      <td>...</td>\n",
       "      <td>0.418296</td>\n",
       "      <td>0.501489</td>\n",
       "      <td>0.133073</td>\n",
       "      <td>0.202999</td>\n",
       "      <td>0.147808</td>\n",
       "      <td>0.000000</td>\n",
       "      <td>0.418375</td>\n",
       "      <td>0.428758</td>\n",
       "      <td>0.418053</td>\n",
       "      <td>0.501750</td>\n",
       "    </tr>\n",
       "    <tr>\n",
       "      <th>249</th>\n",
       "      <td>0.501425</td>\n",
       "      <td>0.502203</td>\n",
       "      <td>0.501561</td>\n",
       "      <td>0.501018</td>\n",
       "      <td>0.501024</td>\n",
       "      <td>0.501793</td>\n",
       "      <td>0.502194</td>\n",
       "      <td>0.672892</td>\n",
       "      <td>0.598481</td>\n",
       "      <td>0.501678</td>\n",
       "      <td>...</td>\n",
       "      <td>0.083412</td>\n",
       "      <td>0.500219</td>\n",
       "      <td>0.464698</td>\n",
       "      <td>0.534625</td>\n",
       "      <td>0.479433</td>\n",
       "      <td>0.418375</td>\n",
       "      <td>0.000000</td>\n",
       "      <td>0.097133</td>\n",
       "      <td>0.083655</td>\n",
       "      <td>0.333375</td>\n",
       "    </tr>\n",
       "    <tr>\n",
       "      <th>250</th>\n",
       "      <td>0.512374</td>\n",
       "      <td>0.511597</td>\n",
       "      <td>0.512239</td>\n",
       "      <td>0.512782</td>\n",
       "      <td>0.512775</td>\n",
       "      <td>0.512007</td>\n",
       "      <td>0.511606</td>\n",
       "      <td>0.659093</td>\n",
       "      <td>0.584681</td>\n",
       "      <td>0.512121</td>\n",
       "      <td>...</td>\n",
       "      <td>0.097054</td>\n",
       "      <td>0.513581</td>\n",
       "      <td>0.478498</td>\n",
       "      <td>0.548424</td>\n",
       "      <td>0.493233</td>\n",
       "      <td>0.428758</td>\n",
       "      <td>0.097133</td>\n",
       "      <td>0.000000</td>\n",
       "      <td>0.096811</td>\n",
       "      <td>0.347175</td>\n",
       "    </tr>\n",
       "    <tr>\n",
       "      <th>251</th>\n",
       "      <td>0.501103</td>\n",
       "      <td>0.501881</td>\n",
       "      <td>0.501239</td>\n",
       "      <td>0.500696</td>\n",
       "      <td>0.500702</td>\n",
       "      <td>0.501471</td>\n",
       "      <td>0.501872</td>\n",
       "      <td>0.672571</td>\n",
       "      <td>0.598159</td>\n",
       "      <td>0.501357</td>\n",
       "      <td>...</td>\n",
       "      <td>0.083577</td>\n",
       "      <td>0.500103</td>\n",
       "      <td>0.465020</td>\n",
       "      <td>0.534946</td>\n",
       "      <td>0.479755</td>\n",
       "      <td>0.418053</td>\n",
       "      <td>0.083655</td>\n",
       "      <td>0.096811</td>\n",
       "      <td>0.000000</td>\n",
       "      <td>0.333697</td>\n",
       "    </tr>\n",
       "    <tr>\n",
       "      <th>252</th>\n",
       "      <td>0.584800</td>\n",
       "      <td>0.585578</td>\n",
       "      <td>0.584936</td>\n",
       "      <td>0.584393</td>\n",
       "      <td>0.584399</td>\n",
       "      <td>0.585167</td>\n",
       "      <td>0.585568</td>\n",
       "      <td>0.589601</td>\n",
       "      <td>0.515189</td>\n",
       "      <td>0.585053</td>\n",
       "      <td>...</td>\n",
       "      <td>0.333453</td>\n",
       "      <td>0.416927</td>\n",
       "      <td>0.547990</td>\n",
       "      <td>0.534583</td>\n",
       "      <td>0.562725</td>\n",
       "      <td>0.501750</td>\n",
       "      <td>0.333375</td>\n",
       "      <td>0.347175</td>\n",
       "      <td>0.333697</td>\n",
       "      <td>0.000000</td>\n",
       "    </tr>\n",
       "  </tbody>\n",
       "</table>\n",
       "<p>253 rows × 253 columns</p>\n",
       "</div>"
      ],
      "text/plain": [
       "          0         1         2         3         4         5         6    \\\n",
       "0    0.000000  0.417445  0.250136  0.250407  0.083734  0.000367  0.250768   \n",
       "1    0.417445  0.000000  0.417309  0.417852  0.417846  0.417077  0.416676   \n",
       "2    0.250136  0.417309  0.000000  0.250543  0.250537  0.250232  0.000633   \n",
       "3    0.250407  0.417852  0.250543  0.000000  0.250006  0.250775  0.251176   \n",
       "4    0.083734  0.417846  0.250537  0.250006  0.000000  0.084102  0.251169   \n",
       "..        ...       ...       ...       ...       ...       ...       ...   \n",
       "248  0.500283  0.500495  0.500147  0.500690  0.500684  0.500085  0.500486   \n",
       "249  0.501425  0.502203  0.501561  0.501018  0.501024  0.501793  0.502194   \n",
       "250  0.512374  0.511597  0.512239  0.512782  0.512775  0.512007  0.511606   \n",
       "251  0.501103  0.501881  0.501239  0.500696  0.500702  0.501471  0.501872   \n",
       "252  0.584800  0.585578  0.584936  0.584393  0.584399  0.585167  0.585568   \n",
       "\n",
       "          7         8         9    ...       243       244       245  \\\n",
       "0    0.671467  0.597056  0.333586  ...  0.501347  0.584539  0.549457   \n",
       "1    0.670689  0.596278  0.500525  ...  0.502125  0.585317  0.550234   \n",
       "2    0.671332  0.596920  0.333451  ...  0.501482  0.584675  0.549592   \n",
       "3    0.671874  0.597463  0.333994  ...  0.500939  0.584132  0.549049   \n",
       "4    0.671868  0.597457  0.333988  ...  0.500946  0.584138  0.549056   \n",
       "..        ...       ...       ...  ...       ...       ...       ...   \n",
       "248  0.671184  0.596773  0.500030  ...  0.418296  0.501489  0.133073   \n",
       "249  0.672892  0.598481  0.501678  ...  0.083412  0.500219  0.464698   \n",
       "250  0.659093  0.584681  0.512121  ...  0.097054  0.513581  0.478498   \n",
       "251  0.672571  0.598159  0.501357  ...  0.083577  0.500103  0.465020   \n",
       "252  0.589601  0.515189  0.585053  ...  0.333453  0.416927  0.547990   \n",
       "\n",
       "          246       247       248       249       250       251       252  \n",
       "0    0.619383  0.564192  0.500283  0.501425  0.512374  0.501103  0.584800  \n",
       "1    0.620161  0.564970  0.500495  0.502203  0.511597  0.501881  0.585578  \n",
       "2    0.619519  0.564328  0.500147  0.501561  0.512239  0.501239  0.584936  \n",
       "3    0.618976  0.563785  0.500690  0.501018  0.512782  0.500696  0.584393  \n",
       "4    0.618982  0.563791  0.500684  0.501024  0.512775  0.500702  0.584399  \n",
       "..        ...       ...       ...       ...       ...       ...       ...  \n",
       "248  0.202999  0.147808  0.000000  0.418375  0.428758  0.418053  0.501750  \n",
       "249  0.534625  0.479433  0.418375  0.000000  0.097133  0.083655  0.333375  \n",
       "250  0.548424  0.493233  0.428758  0.097133  0.000000  0.096811  0.347175  \n",
       "251  0.534946  0.479755  0.418053  0.083655  0.096811  0.000000  0.333697  \n",
       "252  0.534583  0.562725  0.501750  0.333375  0.347175  0.333697  0.000000  \n",
       "\n",
       "[253 rows x 253 columns]"
      ]
     },
     "execution_count": 17,
     "metadata": {},
     "output_type": "execute_result"
    }
   ],
   "source": [
    "import gower\n",
    "\n",
    "# Creamos una matriz cruzada con las distancias\n",
    "distance_matrix = gower.gower_matrix(df_kurt)\n",
    "pd.DataFrame(distance_matrix) "
   ]
  },
  {
   "cell_type": "markdown",
   "id": "a7fbeefc",
   "metadata": {},
   "source": [
    "Una vez recuperamos las distancias, vamos a medir los valores de los parámetros que requiere la librería sklearn para aplicar el algoritmo DBSCAN."
   ]
  },
  {
   "cell_type": "code",
   "execution_count": 18,
   "id": "56e448e8",
   "metadata": {},
   "outputs": [],
   "source": [
    "from sklearn.preprocessing import StandardScaler\n",
    "from sklearn.cluster import DBSCAN\n",
    "from sklearn.metrics import silhouette_score\n",
    "\n",
    "# Instancia de escalador estándar\n",
    "scaler = StandardScaler()\n",
    "\n",
    "# Ajustar y transformar datos\n",
    "df_scaled = scaler.fit_transform(distance_matrix)"
   ]
  },
  {
   "cell_type": "code",
   "execution_count": 19,
   "id": "31df1d0e",
   "metadata": {},
   "outputs": [],
   "source": [
    "def cluster(model, X_scaled, method):\n",
    "    \n",
    "    # Seed\n",
    "    np.random.seed(35735)\n",
    "    \n",
    "    # Estimación\n",
    "    model.fit(X_scaled)\n",
    "    \n",
    "    # Numero de clusters\n",
    "    clusters = model.labels_\n",
    "    num_clusters = len(set(clusters[clusters >= 0]))\n",
    "    # Coeficiente de silueta\n",
    "    silh_score = silhouette_score(X_scaled, model.labels_)\n",
    "    \n",
    "    # Results\n",
    "    print(f'\\nModel Report\\n{method}\\n')\n",
    "    print(f'Number of clusters: {num_clusters}\\n')\n",
    "    print(f'Silhouette Coefficient: {silh_score:.3f}')"
   ]
  },
  {
   "cell_type": "code",
   "execution_count": 20,
   "id": "28d68281",
   "metadata": {},
   "outputs": [
    {
     "data": {
      "image/png": "[encoded data removed]",
      "text/plain": [
       "<Figure size 504x288 with 1 Axes>"
      ]
     },
     "metadata": {
      "needs_background": "light"
     },
     "output_type": "display_data"
    }
   ],
   "source": [
    "import matplotlib.pyplot as plt\n",
    "import seaborn as sns\n",
    "\n",
    "silhouette_scores_dbs = []\n",
    "\n",
    "for i in np.arange(0.5, 1.0, 0.1):\n",
    "    dbs = DBSCAN(eps = i, min_samples = 5)\n",
    "    dbs.fit(df_scaled)\n",
    "    silhouette_scores_dbs.append(silhouette_score(df_scaled, dbs.labels_))\n",
    "\n",
    "# Gráfico\n",
    "\n",
    "plt.plot(np.arange(0.5, 1.0, 0.1), silhouette_scores_dbs, marker = '.')\n",
    "plt.axvline(x = 0.6, linestyle = '--')\n",
    "plt.title('DBSCAN, Coeficiente de Silueta')\n",
    "plt.ylabel('')\n",
    "plt.xlabel('Eps')\n",
    "plt.xticks(np.arange(0.5, 1.0, 0.1))\n",
    "sns.despine(left = True, bottom = True)\n",
    "plt.gcf().set_size_inches(7, 4);\n"
   ]
  },
  {
   "cell_type": "markdown",
   "id": "c70b32f1",
   "metadata": {},
   "source": [
    "# End: Clustering"
   ]
  },
  {
   "cell_type": "code",
   "execution_count": 21,
   "id": "14736dee",
   "metadata": {},
   "outputs": [],
   "source": [
    "# Handling the missing values\n",
    "\n",
    "df_kurt.fillna(method ='ffill', inplace = True)"
   ]
  },
  {
   "cell_type": "code",
   "execution_count": 22,
   "id": "9995a3c5",
   "metadata": {},
   "outputs": [],
   "source": [
    "# Libraries\n",
    "from sklearn.preprocessing import StandardScaler\n",
    "from sklearn.preprocessing import normalize\n",
    "from sklearn.decomposition import PCA\n",
    "\n",
    "# Scaling the data to bring all the attributes to a comparable level\n",
    "scaler = StandardScaler()\n",
    "df_kurt_scaled = scaler.fit_transform(distance_matrix)\n",
    "\n",
    "# Normalizing the data so that data approdf_kurtimately follows a Gaussian distribution\n",
    "df_kurt_normalized = normalize(df_kurt_scaled)\n",
    "  \n",
    "# Converting the numpy array into a pandas DataFrame\n",
    "df_kurt_normalized = pd.DataFrame(df_kurt_normalized)"
   ]
  },
  {
   "cell_type": "markdown",
   "id": "67ea0907",
   "metadata": {},
   "source": [
    "#### Reducing the dimensionality of the data to make it visualizable"
   ]
  },
  {
   "cell_type": "code",
   "execution_count": 23,
   "id": "678ed679",
   "metadata": {},
   "outputs": [
    {
     "data": {
      "text/html": [
       "<div>\n",
       "<style scoped>\n",
       "    .dataframe tbody tr th:only-of-type {\n",
       "        vertical-align: middle;\n",
       "    }\n",
       "\n",
       "    .dataframe tbody tr th {\n",
       "        vertical-align: top;\n",
       "    }\n",
       "\n",
       "    .dataframe thead th {\n",
       "        text-align: right;\n",
       "    }\n",
       "</style>\n",
       "<table border=\"1\" class=\"dataframe\">\n",
       "  <thead>\n",
       "    <tr style=\"text-align: right;\">\n",
       "      <th></th>\n",
       "      <th>Punto X</th>\n",
       "      <th>Punto Y</th>\n",
       "    </tr>\n",
       "  </thead>\n",
       "  <tbody>\n",
       "    <tr>\n",
       "      <th>0</th>\n",
       "      <td>0.589158</td>\n",
       "      <td>0.287696</td>\n",
       "    </tr>\n",
       "    <tr>\n",
       "      <th>1</th>\n",
       "      <td>0.508937</td>\n",
       "      <td>0.190849</td>\n",
       "    </tr>\n",
       "    <tr>\n",
       "      <th>2</th>\n",
       "      <td>0.597620</td>\n",
       "      <td>0.287827</td>\n",
       "    </tr>\n",
       "    <tr>\n",
       "      <th>3</th>\n",
       "      <td>0.616738</td>\n",
       "      <td>0.290738</td>\n",
       "    </tr>\n",
       "    <tr>\n",
       "      <th>4</th>\n",
       "      <td>0.596527</td>\n",
       "      <td>0.289358</td>\n",
       "    </tr>\n",
       "  </tbody>\n",
       "</table>\n",
       "</div>"
      ],
      "text/plain": [
       "    Punto X   Punto Y\n",
       "0  0.589158  0.287696\n",
       "1  0.508937  0.190849\n",
       "2  0.597620  0.287827\n",
       "3  0.616738  0.290738\n",
       "4  0.596527  0.289358"
      ]
     },
     "execution_count": 23,
     "metadata": {},
     "output_type": "execute_result"
    }
   ],
   "source": [
    "pca = PCA(n_components = 2)\n",
    "df_kurt_principal = pca.fit_transform(df_kurt_normalized)\n",
    "df_kurt_principal = pd.DataFrame(df_kurt_principal)\n",
    "df_kurt_principal.columns = ['Punto X', 'Punto Y']\n",
    "df_kurt_principal.head()"
   ]
  },
  {
   "cell_type": "markdown",
   "id": "7a027dac",
   "metadata": {},
   "source": [
    "##### Create clusters"
   ]
  },
  {
   "cell_type": "code",
   "execution_count": 24,
   "id": "706a2145",
   "metadata": {},
   "outputs": [
    {
     "data": {
      "text/html": [
       "<div>\n",
       "<style scoped>\n",
       "    .dataframe tbody tr th:only-of-type {\n",
       "        vertical-align: middle;\n",
       "    }\n",
       "\n",
       "    .dataframe tbody tr th {\n",
       "        vertical-align: top;\n",
       "    }\n",
       "\n",
       "    .dataframe thead th {\n",
       "        text-align: right;\n",
       "    }\n",
       "</style>\n",
       "<table border=\"1\" class=\"dataframe\">\n",
       "  <thead>\n",
       "    <tr style=\"text-align: right;\">\n",
       "      <th></th>\n",
       "      <th>TRANS VAT DESC</th>\n",
       "      <th>ORIGINAL GROSS AMT</th>\n",
       "      <th>ORIGINAL CUR</th>\n",
       "      <th>BILLING GROSS AMT</th>\n",
       "      <th>BILLING CUR CODE</th>\n",
       "      <th>MERCHANT NAME</th>\n",
       "      <th>TRANS CAC CODE 1</th>\n",
       "      <th>TRANS CAC DESC 1</th>\n",
       "      <th>TRANS CAC CODE 2</th>\n",
       "      <th>TRANS CAC DESC 2</th>\n",
       "      <th>TRANS CAC CODE 3</th>\n",
       "      <th>Directorate</th>\n",
       "      <th>cluster</th>\n",
       "    </tr>\n",
       "  </thead>\n",
       "  <tbody>\n",
       "    <tr>\n",
       "      <th>6</th>\n",
       "      <td>VR</td>\n",
       "      <td>51.43</td>\n",
       "      <td>GBP</td>\n",
       "      <td>51.43</td>\n",
       "      <td>GBP</td>\n",
       "      <td>shell kings 587</td>\n",
       "      <td>K020</td>\n",
       "      <td>Vehicle Fuel</td>\n",
       "      <td>RV191</td>\n",
       "      <td>Moseley Day Centre</td>\n",
       "      <td>A00</td>\n",
       "      <td>Adult Social Care and Health</td>\n",
       "      <td>0</td>\n",
       "    </tr>\n",
       "    <tr>\n",
       "      <th>16</th>\n",
       "      <td>VR</td>\n",
       "      <td>75.00</td>\n",
       "      <td>GBP</td>\n",
       "      <td>75.00</td>\n",
       "      <td>GBP</td>\n",
       "      <td>hmcourts-service.g</td>\n",
       "      <td>MC70</td>\n",
       "      <td>Supplies &amp; Sev Mic</td>\n",
       "      <td>RV3T0</td>\n",
       "      <td>Mental Health Management Budget</td>\n",
       "      <td>A00</td>\n",
       "      <td>Adult Social Care and Health</td>\n",
       "      <td>0</td>\n",
       "    </tr>\n",
       "    <tr>\n",
       "      <th>51</th>\n",
       "      <td>VR</td>\n",
       "      <td>55.54</td>\n",
       "      <td>GBP</td>\n",
       "      <td>55.54</td>\n",
       "      <td>GBP</td>\n",
       "      <td>weoley castle</td>\n",
       "      <td>K020</td>\n",
       "      <td>Vehicle Fuel</td>\n",
       "      <td>RV18X</td>\n",
       "      <td>Harborne Day Centre</td>\n",
       "      <td>A00</td>\n",
       "      <td>Adult Social Care and Health</td>\n",
       "      <td>0</td>\n",
       "    </tr>\n",
       "  </tbody>\n",
       "</table>\n",
       "</div>"
      ],
      "text/plain": [
       "   TRANS VAT DESC  ORIGINAL GROSS AMT ORIGINAL CUR  BILLING GROSS AMT  \\\n",
       "6              VR               51.43          GBP              51.43   \n",
       "16             VR               75.00          GBP              75.00   \n",
       "51             VR               55.54          GBP              55.54   \n",
       "\n",
       "   BILLING CUR CODE       MERCHANT NAME TRANS CAC CODE 1    TRANS CAC DESC 1  \\\n",
       "6               GBP     shell kings 587             K020        Vehicle Fuel   \n",
       "16              GBP  hmcourts-service.g             MC70  Supplies & Sev Mic   \n",
       "51              GBP       weoley castle             K020        Vehicle Fuel   \n",
       "\n",
       "   TRANS CAC CODE 2                 TRANS CAC DESC 2 TRANS CAC CODE 3  \\\n",
       "6             RV191               Moseley Day Centre              A00   \n",
       "16            RV3T0  Mental Health Management Budget              A00   \n",
       "51            RV18X              Harborne Day Centre              A00   \n",
       "\n",
       "                     Directorate  cluster  \n",
       "6   Adult Social Care and Health        0  \n",
       "16  Adult Social Care and Health        0  \n",
       "51  Adult Social Care and Health        0  "
      ]
     },
     "execution_count": 24,
     "metadata": {},
     "output_type": "execute_result"
    }
   ],
   "source": [
    "# Numpy array of all the cluster labels assigned to each data point\n",
    "\n",
    "db_default = DBSCAN(eps=0.25, min_samples=3).fit(df_kurt_principal)\n",
    "\n",
    "# Add column to df\n",
    "\n",
    "df_kurt[\"cluster\"] = db_default.labels_\n",
    "\n",
    "# Vector of clusters\n",
    "labels = db_default.labels_\n",
    "\n",
    "df_kurt.head(3)"
   ]
  },
  {
   "cell_type": "code",
   "execution_count": 25,
   "id": "cab99913",
   "metadata": {},
   "outputs": [
    {
     "data": {
      "text/plain": [
       "array([ 0,  1, -1,  2,  3,  4,  5], dtype=int64)"
      ]
     },
     "execution_count": 25,
     "metadata": {},
     "output_type": "execute_result"
    }
   ],
   "source": [
    "df_kurt['cluster'].unique()"
   ]
  },
  {
   "cell_type": "markdown",
   "id": "4f48a07b",
   "metadata": {},
   "source": [
    "# Details of model"
   ]
  },
  {
   "cell_type": "code",
   "execution_count": 26,
   "id": "1e9afee1",
   "metadata": {},
   "outputs": [
    {
     "name": "stdout",
     "output_type": "stream",
     "text": [
      "Estimated number of clusters: 6\n",
      "Estimated number of noise points: 1\n",
      "Homogeneity: 1.000\n",
      "Completeness: 1.000\n",
      "V-measure: 1.000\n",
      "Adjusted Rand Index: 1.000\n",
      "Adjusted Mutual Information: 1.000\n",
      "Silhouette Coefficient: 0.517\n"
     ]
    }
   ],
   "source": [
    "from sklearn import metrics\n",
    "\n",
    "# Ajusted for plot\n",
    "\n",
    "core_samples_mask = np.zeros_like(db_default.labels_, dtype=bool)\n",
    "core_samples_mask[db_default.core_sample_indices_] = True # Obtiene cores\n",
    "\n",
    "# Number of clusters in labels, ignoring noise if present.\n",
    "n_clusters_ = len(set(labels)) - (1 if -1 in labels else 0)\n",
    "n_noise_ = list(labels).count(-1)\n",
    "\n",
    "print(\"Estimated number of clusters: %d\" % n_clusters_)\n",
    "print(\"Estimated number of noise points: %d\" % n_noise_)\n",
    "print(\"Homogeneity: %0.3f\" % metrics.homogeneity_score(df_kurt['cluster'], labels))\n",
    "print(\"Completeness: %0.3f\" % metrics.completeness_score(df_kurt['cluster'], labels))\n",
    "print(\"V-measure: %0.3f\" % metrics.v_measure_score(df_kurt['cluster'], labels))\n",
    "print(\"Adjusted Rand Index: %0.3f\" % metrics.adjusted_rand_score(df_kurt['cluster'], labels))\n",
    "print(\n",
    "    \"Adjusted Mutual Information: %0.3f\"\n",
    "    % metrics.adjusted_mutual_info_score(df_kurt['cluster'], labels)\n",
    ")\n",
    "print(\"Silhouette Coefficient: %0.3f\" % metrics.silhouette_score(df_kurt_principal, labels))"
   ]
  },
  {
   "cell_type": "markdown",
   "id": "1019eff5",
   "metadata": {},
   "source": [
    "# Visualizations"
   ]
  },
  {
   "cell_type": "markdown",
   "id": "33d7ee7c",
   "metadata": {},
   "source": [
    "<center><b>Sin DBSCAN</b></center>"
   ]
  },
  {
   "cell_type": "code",
   "execution_count": 27,
   "id": "5bfbcd93",
   "metadata": {},
   "outputs": [
    {
     "data": {
      "image/png": "[encoded data removed]",
      "text/plain": [
       "<Figure size 648x648 with 1 Axes>"
      ]
     },
     "metadata": {
      "needs_background": "light"
     },
     "output_type": "display_data"
    }
   ],
   "source": [
    "# Creamos la figura\n",
    "\n",
    "plt.figure(figsize =(9, 9))\n",
    "plt.axvline(x=0, linestyle='--', c='#757067') # add horizont line\n",
    "plt.axhline(y=0, linestyle='--', c='#757067') # add vertical line \n",
    "plt.scatter(df_kurt_principal['Punto X'], df_kurt_principal['Punto Y'])\n",
    "\n",
    "# Modify axis' text\n",
    "plt.title('Clustering by DBSCAN')\n",
    "plt.ylabel('')\n",
    "plt.xlabel('')\n",
    "\n",
    "\n",
    "# Mostramos el gráfico\n",
    "plt.show()"
   ]
  },
  {
   "cell_type": "code",
   "execution_count": 113,
   "id": "4112884d",
   "metadata": {},
   "outputs": [
    {
     "data": {
      "image/png": "[encoded data removed]",
      "text/plain": [
       "<Figure size 432x288 with 1 Axes>"
      ]
     },
     "metadata": {
      "needs_background": "light"
     },
     "output_type": "display_data"
    }
   ],
   "source": [
    "# Black removed and is used for noise instead.\n",
    "\n",
    "# Create color by clusters\n",
    "unique_labels = set(labels)\n",
    "colors = [plt.cm.Spectral(each) for each in np.linspace(0, 1, len(unique_labels))]\n",
    "\n",
    "# Create tuples codes and colors of clusters for creating a legend\n",
    "vector_names_clusters = ()\n",
    "vector_colors_clusters = ()\n",
    "\n",
    "# Mapping clusters\n",
    "for k, col in zip(unique_labels, colors):\n",
    "    if k == -1:\n",
    "        \n",
    "        # Black used for noise.\n",
    "        col = [0, 0, 0, 1]\n",
    "\n",
    "    class_member_mask = labels == k\n",
    "\n",
    "    xy = df_kurt_principal[class_member_mask & core_samples_mask]\n",
    "    plt.plot(\n",
    "        xy.iloc[:, 0],\n",
    "        xy.iloc[:, 1],\n",
    "        \"o\",\n",
    "        markerfacecolor=tuple(col),\n",
    "        markeredgecolor=\"k\",\n",
    "        markersize=12,\n",
    "    )\n",
    "\n",
    "    xy = df_kurt_principal[class_member_mask & ~core_samples_mask]\n",
    "    plt.plot(\n",
    "        xy.iloc[:, 0],\n",
    "        xy.iloc[:, 1],\n",
    "        \"o\",\n",
    "        markerfacecolor=tuple(col),\n",
    "        markeredgecolor=\"k\",\n",
    "        markersize=4,\n",
    "    )\n",
    "\n",
    "    \n",
    "# Para que sea comparativo\n",
    "plt.axvline(x=0, linestyle='--', c='#757067') # add horizont line\n",
    "plt.axhline(y=0, linestyle='--', c='#757067') # add vertical line\n",
    "\n",
    "# add legend\n",
    "# plt.legend(vector_colors_clusters, vector_names_clusters)\n",
    "\n",
    "# Show plot\n",
    "plt.title(\"Estimated number of clusters: %d\" % n_clusters_)\n",
    "plt.show()"
   ]
  },
  {
   "cell_type": "markdown",
   "id": "abb0d45b",
   "metadata": {},
   "source": [
    "# Descriptivos"
   ]
  },
  {
   "cell_type": "code",
   "execution_count": 114,
   "id": "0a43894b",
   "metadata": {},
   "outputs": [
    {
     "data": {
      "text/html": [
       "<div>\n",
       "<style scoped>\n",
       "    .dataframe tbody tr th:only-of-type {\n",
       "        vertical-align: middle;\n",
       "    }\n",
       "\n",
       "    .dataframe tbody tr th {\n",
       "        vertical-align: top;\n",
       "    }\n",
       "\n",
       "    .dataframe thead th {\n",
       "        text-align: right;\n",
       "    }\n",
       "</style>\n",
       "<table border=\"1\" class=\"dataframe\">\n",
       "  <thead>\n",
       "    <tr style=\"text-align: right;\">\n",
       "      <th></th>\n",
       "      <th>TRANS VAT DESC</th>\n",
       "      <th>ORIGINAL GROSS AMT</th>\n",
       "      <th>ORIGINAL CUR</th>\n",
       "      <th>BILLING GROSS AMT</th>\n",
       "      <th>BILLING CUR CODE</th>\n",
       "      <th>MERCHANT NAME</th>\n",
       "      <th>TRANS CAC CODE 1</th>\n",
       "      <th>TRANS CAC DESC 1</th>\n",
       "      <th>TRANS CAC CODE 2</th>\n",
       "      <th>TRANS CAC DESC 2</th>\n",
       "      <th>TRANS CAC CODE 3</th>\n",
       "      <th>Directorate</th>\n",
       "      <th>cluster</th>\n",
       "    </tr>\n",
       "  </thead>\n",
       "  <tbody>\n",
       "    <tr>\n",
       "      <th>6</th>\n",
       "      <td>VR</td>\n",
       "      <td>51.43</td>\n",
       "      <td>GBP</td>\n",
       "      <td>51.43</td>\n",
       "      <td>GBP</td>\n",
       "      <td>shell kings 587</td>\n",
       "      <td>K020</td>\n",
       "      <td>Vehicle Fuel</td>\n",
       "      <td>RV191</td>\n",
       "      <td>Moseley Day Centre</td>\n",
       "      <td>A00</td>\n",
       "      <td>Adult Social Care and Health</td>\n",
       "      <td>0</td>\n",
       "    </tr>\n",
       "    <tr>\n",
       "      <th>16</th>\n",
       "      <td>VR</td>\n",
       "      <td>75.00</td>\n",
       "      <td>GBP</td>\n",
       "      <td>75.00</td>\n",
       "      <td>GBP</td>\n",
       "      <td>hmcourts-service.g</td>\n",
       "      <td>MC70</td>\n",
       "      <td>Supplies &amp; Sev Mic</td>\n",
       "      <td>RV3T0</td>\n",
       "      <td>Mental Health Management Budget</td>\n",
       "      <td>A00</td>\n",
       "      <td>Adult Social Care and Health</td>\n",
       "      <td>0</td>\n",
       "    </tr>\n",
       "    <tr>\n",
       "      <th>51</th>\n",
       "      <td>VR</td>\n",
       "      <td>55.54</td>\n",
       "      <td>GBP</td>\n",
       "      <td>55.54</td>\n",
       "      <td>GBP</td>\n",
       "      <td>weoley castle</td>\n",
       "      <td>K020</td>\n",
       "      <td>Vehicle Fuel</td>\n",
       "      <td>RV18X</td>\n",
       "      <td>Harborne Day Centre</td>\n",
       "      <td>A00</td>\n",
       "      <td>Adult Social Care and Health</td>\n",
       "      <td>0</td>\n",
       "    </tr>\n",
       "  </tbody>\n",
       "</table>\n",
       "</div>"
      ],
      "text/plain": [
       "   TRANS VAT DESC  ORIGINAL GROSS AMT ORIGINAL CUR  BILLING GROSS AMT  \\\n",
       "6              VR               51.43          GBP              51.43   \n",
       "16             VR               75.00          GBP              75.00   \n",
       "51             VR               55.54          GBP              55.54   \n",
       "\n",
       "   BILLING CUR CODE       MERCHANT NAME TRANS CAC CODE 1    TRANS CAC DESC 1  \\\n",
       "6               GBP     shell kings 587             K020        Vehicle Fuel   \n",
       "16              GBP  hmcourts-service.g             MC70  Supplies & Sev Mic   \n",
       "51              GBP       weoley castle             K020        Vehicle Fuel   \n",
       "\n",
       "   TRANS CAC CODE 2                 TRANS CAC DESC 2 TRANS CAC CODE 3  \\\n",
       "6             RV191               Moseley Day Centre              A00   \n",
       "16            RV3T0  Mental Health Management Budget              A00   \n",
       "51            RV18X              Harborne Day Centre              A00   \n",
       "\n",
       "                     Directorate  cluster  \n",
       "6   Adult Social Care and Health        0  \n",
       "16  Adult Social Care and Health        0  \n",
       "51  Adult Social Care and Health        0  "
      ]
     },
     "execution_count": 114,
     "metadata": {},
     "output_type": "execute_result"
    }
   ],
   "source": [
    "df_kurt.head(3)"
   ]
  },
  {
   "cell_type": "code",
   "execution_count": 121,
   "id": "02aa1ba9",
   "metadata": {},
   "outputs": [
    {
     "data": {
      "text/plain": [
       "array([ 0,  1, -1,  2,  3,  4,  5], dtype=int64)"
      ]
     },
     "execution_count": 121,
     "metadata": {},
     "output_type": "execute_result"
    }
   ],
   "source": [
    "df_kurt['cluster'].unique()"
   ]
  },
  {
   "cell_type": "code",
   "execution_count": 126,
   "id": "a4ac8b82",
   "metadata": {},
   "outputs": [
    {
     "data": {
      "text/plain": [
       "{-1, 0, 1, 2, 3, 4, 5}"
      ]
     },
     "execution_count": 126,
     "metadata": {},
     "output_type": "execute_result"
    }
   ],
   "source": []
  },
  {
   "cell_type": "code",
   "execution_count": 131,
   "id": "938b1db1",
   "metadata": {},
   "outputs": [
    {
     "data": {
      "image/png": "[encoded data removed]",
      "text/plain": [
       "<Figure size 432x288 with 1 Axes>"
      ]
     },
     "metadata": {
      "needs_background": "light"
     },
     "output_type": "display_data"
    }
   ],
   "source": [
    "import matplotlib.ticker as mtick\n",
    "import seaborn as sns\n",
    "\n",
    "# Defing color\n",
    "cluster_labels = set(df_kurt['cluster'].unique())\n",
    "colors = [plt.cm.Spectral(each) for each in np.linspace(0, 1, len(cluster_labels))]\n",
    "\n",
    "# Creating histogram\n",
    "for code_cluster, col in zip(df_kurt['cluster'].unique(), colors):                                                        \n",
    "    h = plt.hist(data=df_kurt[df_kurt['cluster'] == code_cluster], \n",
    "                 x='ORIGINAL GROSS AMT', \n",
    "                 bins = 20, \n",
    "                 color=col, \n",
    "                 rwidth=0.85, \n",
    "                 alpha=0.8,\n",
    "                 label='Cluster 1'\n",
    "                )"
   ]
  },
  {
   "cell_type": "code",
   "execution_count": 155,
   "id": "20199b90",
   "metadata": {},
   "outputs": [
    {
     "data": {
      "text/html": [
       "<div>\n",
       "<style scoped>\n",
       "    .dataframe tbody tr th:only-of-type {\n",
       "        vertical-align: middle;\n",
       "    }\n",
       "\n",
       "    .dataframe tbody tr th {\n",
       "        vertical-align: top;\n",
       "    }\n",
       "\n",
       "    .dataframe thead th {\n",
       "        text-align: right;\n",
       "    }\n",
       "</style>\n",
       "<table border=\"1\" class=\"dataframe\">\n",
       "  <thead>\n",
       "    <tr style=\"text-align: right;\">\n",
       "      <th></th>\n",
       "      <th>Code cluster</th>\n",
       "      <th>Color</th>\n",
       "    </tr>\n",
       "  </thead>\n",
       "  <tbody>\n",
       "    <tr>\n",
       "      <th>0</th>\n",
       "      <td>0</td>\n",
       "      <td>(0.6196078431372549, 0.00392156862745098, 0.25...</td>\n",
       "    </tr>\n",
       "    <tr>\n",
       "      <th>1</th>\n",
       "      <td>1</td>\n",
       "      <td>(0.9139561707035756, 0.36239907727797, 0.27935...</td>\n",
       "    </tr>\n",
       "    <tr>\n",
       "      <th>2</th>\n",
       "      <td>-1</td>\n",
       "      <td>(0.9934640522875817, 0.7477124183006535, 0.435...</td>\n",
       "    </tr>\n",
       "    <tr>\n",
       "      <th>3</th>\n",
       "      <td>2</td>\n",
       "      <td>(0.998077662437524, 0.9992310649750096, 0.7460...</td>\n",
       "    </tr>\n",
       "    <tr>\n",
       "      <th>4</th>\n",
       "      <td>3</td>\n",
       "      <td>(0.7477124183006538, 0.8980392156862746, 0.627...</td>\n",
       "    </tr>\n",
       "    <tr>\n",
       "      <th>5</th>\n",
       "      <td>4</td>\n",
       "      <td>(0.3280276816608997, 0.6805074971164936, 0.680...</td>\n",
       "    </tr>\n",
       "    <tr>\n",
       "      <th>6</th>\n",
       "      <td>5</td>\n",
       "      <td>(0.3686274509803922, 0.30980392156862746, 0.63...</td>\n",
       "    </tr>\n",
       "  </tbody>\n",
       "</table>\n",
       "</div>"
      ],
      "text/plain": [
       "   Code cluster                                              Color\n",
       "0             0  (0.6196078431372549, 0.00392156862745098, 0.25...\n",
       "1             1  (0.9139561707035756, 0.36239907727797, 0.27935...\n",
       "2            -1  (0.9934640522875817, 0.7477124183006535, 0.435...\n",
       "3             2  (0.998077662437524, 0.9992310649750096, 0.7460...\n",
       "4             3  (0.7477124183006538, 0.8980392156862746, 0.627...\n",
       "5             4  (0.3280276816608997, 0.6805074971164936, 0.680...\n",
       "6             5  (0.3686274509803922, 0.30980392156862746, 0.63..."
      ]
     },
     "execution_count": 155,
     "metadata": {},
     "output_type": "execute_result"
    }
   ],
   "source": [
    "# Create list\n",
    "CODE = []\n",
    "COL = []\n",
    "for code_cluster, col in zip(df_kurt['cluster'].unique(), colors):\n",
    "    CODE.append(code_cluster)\n",
    "    COL.append(col)\n",
    "\n",
    "CODE_COL = pd.DataFrame({'Code cluster': CODE, 'Color': COL})\n",
    "CODE_COL"
   ]
  },
  {
   "cell_type": "code",
   "execution_count": 164,
   "id": "88e98424",
   "metadata": {},
   "outputs": [
    {
     "data": {
      "text/plain": [
       "Text(0.5, 1.0, 'Cluster 0')"
      ]
     },
     "execution_count": 164,
     "metadata": {},
     "output_type": "execute_result"
    },
    {
     "data": {
      "image/png": "[encoded data removed]",
      "text/plain": [
       "<Figure size 432x288 with 1 Axes>"
      ]
     },
     "metadata": {
      "needs_background": "light"
     },
     "output_type": "display_data"
    }
   ],
   "source": [
    "h0 = plt.hist(data=df_kurt[df_kurt['cluster'] == 0], \n",
    "                 x='ORIGINAL GROSS AMT', \n",
    "                 bins = 20, \n",
    "                 color=CODE_COL['Color'][0], \n",
    "                 rwidth=0.85, \n",
    "                 alpha=0.8\n",
    "                )\n",
    "\n",
    "plt.title(\"Cluster 0\")"
   ]
  },
  {
   "cell_type": "code",
   "execution_count": 165,
   "id": "2c5d6d25",
   "metadata": {},
   "outputs": [
    {
     "data": {
      "text/plain": [
       "Text(0.5, 1.0, 'Cluster 1')"
      ]
     },
     "execution_count": 165,
     "metadata": {},
     "output_type": "execute_result"
    },
    {
     "data": {
      "image/png": "[encoded data removed]",
      "text/plain": [
       "<Figure size 432x288 with 1 Axes>"
      ]
     },
     "metadata": {
      "needs_background": "light"
     },
     "output_type": "display_data"
    }
   ],
   "source": [
    "h1 = plt.hist(data=df_kurt[df_kurt['cluster'] == 1], \n",
    "                 x='ORIGINAL GROSS AMT', \n",
    "                 bins = 20, \n",
    "                 color=CODE_COL['Color'][1], \n",
    "                 rwidth=0.85, \n",
    "                 alpha=0.8\n",
    "                )\n",
    "\n",
    "plt.title(\"Cluster 1\")"
   ]
  },
  {
   "cell_type": "code",
   "execution_count": 172,
   "id": "1c883a6d",
   "metadata": {},
   "outputs": [
    {
     "data": {
      "text/plain": [
       "Text(0.5, 1.0, 'Cluster 2')"
      ]
     },
     "execution_count": 172,
     "metadata": {},
     "output_type": "execute_result"
    },
    {
     "data": {
      "image/png": "[encoded data removed]",
      "text/plain": [
       "<Figure size 432x288 with 1 Axes>"
      ]
     },
     "metadata": {
      "needs_background": "light"
     },
     "output_type": "display_data"
    }
   ],
   "source": [
    "h2 = plt.hist(data=df_kurt[df_kurt['cluster'] == 2], \n",
    "                 x='ORIGINAL GROSS AMT', \n",
    "                 bins = 20, \n",
    "                 color=CODE_COL['Color'][2], \n",
    "                 rwidth=0.85, \n",
    "                 alpha=0.8,\n",
    "                 label='Cluster 2'\n",
    "                )\n",
    "\n",
    "plt.title(\"Cluster 2\")"
   ]
  },
  {
   "cell_type": "code",
   "execution_count": 171,
   "id": "f4a42c39",
   "metadata": {},
   "outputs": [
    {
     "data": {
      "text/plain": [
       "Text(0.5, 1.0, 'Cluster 3')"
      ]
     },
     "execution_count": 171,
     "metadata": {},
     "output_type": "execute_result"
    },
    {
     "data": {
      "image/png": "[encoded data removed]",
      "text/plain": [
       "<Figure size 432x288 with 1 Axes>"
      ]
     },
     "metadata": {
      "needs_background": "light"
     },
     "output_type": "display_data"
    }
   ],
   "source": [
    "h3 = plt.hist(data=df_kurt[df_kurt['cluster'] == 3], \n",
    "                 x='ORIGINAL GROSS AMT', \n",
    "                 bins = 20, \n",
    "                 color=CODE_COL['Color'][3], \n",
    "                 rwidth=0.85, \n",
    "                 alpha=0.95,\n",
    "                 label='Cluster 3'\n",
    "                )\n",
    "\n",
    "plt.title(\"Cluster 3\")"
   ]
  },
  {
   "cell_type": "code",
   "execution_count": 173,
   "id": "b2a91225",
   "metadata": {},
   "outputs": [
    {
     "data": {
      "text/plain": [
       "Text(0.5, 1.0, 'Cluster 4')"
      ]
     },
     "execution_count": 173,
     "metadata": {},
     "output_type": "execute_result"
    },
    {
     "data": {
      "image/png": "[encoded data removed]",
      "text/plain": [
       "<Figure size 432x288 with 1 Axes>"
      ]
     },
     "metadata": {
      "needs_background": "light"
     },
     "output_type": "display_data"
    }
   ],
   "source": [
    "h4 = plt.hist(data=df_kurt[df_kurt['cluster'] == 4], \n",
    "                 x='ORIGINAL GROSS AMT', \n",
    "                 bins = 20, \n",
    "                 color=CODE_COL['Color'][4], \n",
    "                 rwidth=0.85, \n",
    "                 alpha=0.8,\n",
    "                 label='Cluster 4'\n",
    "                )\n",
    "\n",
    "plt.title(\"Cluster 4\")"
   ]
  },
  {
   "cell_type": "code",
   "execution_count": 174,
   "id": "231e5581",
   "metadata": {},
   "outputs": [
    {
     "data": {
      "text/plain": [
       "Text(0.5, 1.0, 'Cluster 5')"
      ]
     },
     "execution_count": 174,
     "metadata": {},
     "output_type": "execute_result"
    },
    {
     "data": {
      "image/png": "[encoded data removed]",
      "text/plain": [
       "<Figure size 432x288 with 1 Axes>"
      ]
     },
     "metadata": {
      "needs_background": "light"
     },
     "output_type": "display_data"
    }
   ],
   "source": [
    "h5 = plt.hist(data=df_kurt[df_kurt['cluster'] == 5], \n",
    "                 x='ORIGINAL GROSS AMT', \n",
    "                 bins = 20, \n",
    "                 color=CODE_COL['Color'][5], \n",
    "                 rwidth=0.85, \n",
    "                 alpha=0.8,\n",
    "                 label='Cluster 5'\n",
    "                )\n",
    "\n",
    "plt.title(\"Cluster 5\")"
   ]
  }
 ],
 "metadata": {
  "kernelspec": {
   "display_name": "Clustering",
   "language": "python",
   "name": "clustering"
  },
  "language_info": {
   "codemirror_mode": {
    "name": "ipython",
    "version": 3
   },
   "file_extension": ".py",
   "mimetype": "text/x-python",
   "name": "python",
   "nbconvert_exporter": "python",
   "pygments_lexer": "ipython3",
   "version": "3.9.1"
  }
 },
 "nbformat": 4,
 "nbformat_minor": 5
}
